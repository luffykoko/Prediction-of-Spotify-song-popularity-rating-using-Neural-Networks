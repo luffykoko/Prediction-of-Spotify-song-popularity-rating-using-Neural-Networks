{
 "cells": [
  {
   "cell_type": "markdown",
   "metadata": {
    "colab_type": "text",
    "id": "lP6JLo1tGNBg"
   },
   "source": [
    "# Artificial Neural Network"
   ]
  },
  {
   "cell_type": "markdown",
   "metadata": {
    "colab_type": "text",
    "id": "gWZyYmS_UE_L"
   },
   "source": [
    "### Importing the libraries"
   ]
  },
  {
   "cell_type": "code",
   "execution_count": 1,
   "metadata": {
    "colab": {},
    "colab_type": "code",
    "id": "MxkJoQBkUIHC"
   },
   "outputs": [],
   "source": [
    "import numpy as np\n",
    "import pandas as pd\n",
    "import tensorflow as tf"
   ]
  },
  {
   "cell_type": "code",
   "execution_count": 2,
   "metadata": {
    "colab": {
     "base_uri": "https://localhost:8080/",
     "height": 34
    },
    "colab_type": "code",
    "id": "ZaTwK7ojXr2F",
    "outputId": "0b27a96d-d11a-43e8-ab4b-87c1f01896fe"
   },
   "outputs": [
    {
     "data": {
      "text/plain": [
       "'2.7.0'"
      ]
     },
     "execution_count": 2,
     "metadata": {},
     "output_type": "execute_result"
    }
   ],
   "source": [
    "tf.__version__"
   ]
  },
  {
   "cell_type": "markdown",
   "metadata": {
    "colab_type": "text",
    "id": "1E0Q3aoKUCRX"
   },
   "source": [
    "## Part 1 - Data Preprocessing"
   ]
  },
  {
   "cell_type": "markdown",
   "metadata": {
    "colab_type": "text",
    "id": "cKWAkFVGUU0Z"
   },
   "source": [
    "### Importing the dataset"
   ]
  },
  {
   "cell_type": "code",
   "execution_count": 3,
   "metadata": {
    "colab": {},
    "colab_type": "code",
    "id": "MXUkhkMfU4wq"
   },
   "outputs": [
    {
     "data": {
      "text/html": [
       "<div>\n",
       "<style scoped>\n",
       "    .dataframe tbody tr th:only-of-type {\n",
       "        vertical-align: middle;\n",
       "    }\n",
       "\n",
       "    .dataframe tbody tr th {\n",
       "        vertical-align: top;\n",
       "    }\n",
       "\n",
       "    .dataframe thead th {\n",
       "        text-align: right;\n",
       "    }\n",
       "</style>\n",
       "<table border=\"1\" class=\"dataframe\">\n",
       "  <thead>\n",
       "    <tr style=\"text-align: right;\">\n",
       "      <th></th>\n",
       "      <th>acousticness</th>\n",
       "      <th>danceability</th>\n",
       "      <th>duration_ms</th>\n",
       "      <th>energy</th>\n",
       "      <th>explicit</th>\n",
       "      <th>instrumentalness</th>\n",
       "      <th>key</th>\n",
       "      <th>liveness</th>\n",
       "      <th>loudness</th>\n",
       "      <th>mode</th>\n",
       "      <th>popularity</th>\n",
       "      <th>speechiness</th>\n",
       "      <th>tempo</th>\n",
       "      <th>time_signature</th>\n",
       "      <th>valence</th>\n",
       "    </tr>\n",
       "  </thead>\n",
       "  <tbody>\n",
       "    <tr>\n",
       "      <th>0</th>\n",
       "      <td>0.674</td>\n",
       "      <td>0.645</td>\n",
       "      <td>126903</td>\n",
       "      <td>0.4450</td>\n",
       "      <td>0</td>\n",
       "      <td>0.7440</td>\n",
       "      <td>0</td>\n",
       "      <td>0.151</td>\n",
       "      <td>-13.338</td>\n",
       "      <td>1</td>\n",
       "      <td>6</td>\n",
       "      <td>0.4510</td>\n",
       "      <td>104.851</td>\n",
       "      <td>3</td>\n",
       "      <td>0.127</td>\n",
       "    </tr>\n",
       "    <tr>\n",
       "      <th>1</th>\n",
       "      <td>0.797</td>\n",
       "      <td>0.695</td>\n",
       "      <td>98200</td>\n",
       "      <td>0.2630</td>\n",
       "      <td>0</td>\n",
       "      <td>0.0000</td>\n",
       "      <td>0</td>\n",
       "      <td>0.148</td>\n",
       "      <td>-22.136</td>\n",
       "      <td>1</td>\n",
       "      <td>0</td>\n",
       "      <td>0.9570</td>\n",
       "      <td>102.009</td>\n",
       "      <td>1</td>\n",
       "      <td>0.655</td>\n",
       "    </tr>\n",
       "    <tr>\n",
       "      <th>2</th>\n",
       "      <td>0.994</td>\n",
       "      <td>0.434</td>\n",
       "      <td>181640</td>\n",
       "      <td>0.1770</td>\n",
       "      <td>0</td>\n",
       "      <td>0.0218</td>\n",
       "      <td>1</td>\n",
       "      <td>0.212</td>\n",
       "      <td>-21.180</td>\n",
       "      <td>1</td>\n",
       "      <td>0</td>\n",
       "      <td>0.0512</td>\n",
       "      <td>130.418</td>\n",
       "      <td>5</td>\n",
       "      <td>0.457</td>\n",
       "    </tr>\n",
       "    <tr>\n",
       "      <th>3</th>\n",
       "      <td>0.995</td>\n",
       "      <td>0.321</td>\n",
       "      <td>176907</td>\n",
       "      <td>0.0946</td>\n",
       "      <td>0</td>\n",
       "      <td>0.9180</td>\n",
       "      <td>7</td>\n",
       "      <td>0.104</td>\n",
       "      <td>-27.961</td>\n",
       "      <td>1</td>\n",
       "      <td>0</td>\n",
       "      <td>0.0504</td>\n",
       "      <td>169.980</td>\n",
       "      <td>3</td>\n",
       "      <td>0.397</td>\n",
       "    </tr>\n",
       "    <tr>\n",
       "      <th>4</th>\n",
       "      <td>0.989</td>\n",
       "      <td>0.402</td>\n",
       "      <td>163080</td>\n",
       "      <td>0.1580</td>\n",
       "      <td>0</td>\n",
       "      <td>0.1300</td>\n",
       "      <td>3</td>\n",
       "      <td>0.311</td>\n",
       "      <td>-16.900</td>\n",
       "      <td>0</td>\n",
       "      <td>0</td>\n",
       "      <td>0.0390</td>\n",
       "      <td>103.220</td>\n",
       "      <td>4</td>\n",
       "      <td>0.196</td>\n",
       "    </tr>\n",
       "  </tbody>\n",
       "</table>\n",
       "</div>"
      ],
      "text/plain": [
       "   acousticness  danceability  duration_ms  energy  explicit  \\\n",
       "0         0.674         0.645       126903  0.4450         0   \n",
       "1         0.797         0.695        98200  0.2630         0   \n",
       "2         0.994         0.434       181640  0.1770         0   \n",
       "3         0.995         0.321       176907  0.0946         0   \n",
       "4         0.989         0.402       163080  0.1580         0   \n",
       "\n",
       "   instrumentalness  key  liveness  loudness  mode  popularity  speechiness  \\\n",
       "0            0.7440    0     0.151   -13.338     1           6       0.4510   \n",
       "1            0.0000    0     0.148   -22.136     1           0       0.9570   \n",
       "2            0.0218    1     0.212   -21.180     1           0       0.0512   \n",
       "3            0.9180    7     0.104   -27.961     1           0       0.0504   \n",
       "4            0.1300    3     0.311   -16.900     0           0       0.0390   \n",
       "\n",
       "     tempo  time_signature  valence  \n",
       "0  104.851               3    0.127  \n",
       "1  102.009               1    0.655  \n",
       "2  130.418               5    0.457  \n",
       "3  169.980               3    0.397  \n",
       "4  103.220               4    0.196  "
      ]
     },
     "execution_count": 3,
     "metadata": {},
     "output_type": "execute_result"
    }
   ],
   "source": [
    "df = pd.read_csv('tracks.csv')\n",
    "#dataset = dataset.drop(dataset.columns[[0, 1, 5, 6, 7]], axis=1, inplace=True)\n",
    "dataset = df[df.columns.difference(['id', 'name', 'artists', 'id_artists', 'release_date'])]\n",
    "dataset.head()"
   ]
  },
  {
   "cell_type": "code",
   "execution_count": 4,
   "metadata": {
    "colab": {
     "base_uri": "https://localhost:8080/",
     "height": 137
    },
    "colab_type": "code",
    "id": "VYP9cQTWbzuI",
    "outputId": "797e7a64-9bac-436a-8c9c-94437e5e7587"
   },
   "outputs": [
    {
     "name": "stdout",
     "output_type": "stream",
     "text": [
      "[[6.74000e-01 6.45000e-01 1.26903e+05 ... 1.04851e+02 3.00000e+00\n",
      "  1.27000e-01]\n",
      " [7.97000e-01 6.95000e-01 9.82000e+04 ... 1.02009e+02 1.00000e+00\n",
      "  6.55000e-01]\n",
      " [9.94000e-01 4.34000e-01 1.81640e+05 ... 1.30418e+02 5.00000e+00\n",
      "  4.57000e-01]\n",
      " ...\n",
      " [8.95000e-01 5.35000e-01 1.87601e+05 ... 1.45095e+02 4.00000e+00\n",
      "  6.63000e-02]\n",
      " [2.06000e-01 6.96000e-01 1.42003e+05 ... 9.00290e+01 4.00000e+00\n",
      "  4.38000e-01]\n",
      " [1.05000e-01 6.86000e-01 2.14360e+05 ... 1.12204e+02 4.00000e+00\n",
      "  9.75000e-01]]\n",
      "[ 6  0  0 ... 70 58 38]\n"
     ]
    }
   ],
   "source": [
    "#X = dataset.iloc[:, 3:].values\n",
    "dataset2 = dataset[dataset.columns.difference(['popularity'])]\n",
    "\n",
    "X = dataset2.iloc[:, :].values\n",
    "y = dataset.iloc[:, -5].values\n",
    "\n",
    "print(X)\n",
    "print(y)"
   ]
  },
  {
   "cell_type": "markdown",
   "metadata": {
    "colab_type": "text",
    "id": "N6bQ0UgSU-NJ"
   },
   "source": [
    "### Encoding categorical data"
   ]
  },
  {
   "cell_type": "markdown",
   "metadata": {
    "colab_type": "text",
    "id": "le5MJreAbW52"
   },
   "source": [
    "Label Encoding the \"Gender\" column"
   ]
  },
  {
   "cell_type": "code",
   "execution_count": 5,
   "metadata": {
    "colab": {},
    "colab_type": "code",
    "id": "PxVKWXxLbczC"
   },
   "outputs": [
    {
     "data": {
      "text/plain": [
       "'\\nfrom sklearn.preprocessing import LabelEncoder\\nle = LabelEncoder()\\nX[:, 2] = le.fit_transform(X[:, 2])\\n'"
      ]
     },
     "execution_count": 5,
     "metadata": {},
     "output_type": "execute_result"
    }
   ],
   "source": [
    "'''\n",
    "from sklearn.preprocessing import LabelEncoder\n",
    "le = LabelEncoder()\n",
    "X[:, 2] = le.fit_transform(X[:, 2])\n",
    "'''"
   ]
  },
  {
   "cell_type": "code",
   "execution_count": 6,
   "metadata": {
    "colab": {
     "base_uri": "https://localhost:8080/",
     "height": 137
    },
    "colab_type": "code",
    "id": "-M1KboxFb6OO",
    "outputId": "e2b8c7e8-0cbc-4cdf-f4eb-7f0853a00b88"
   },
   "outputs": [
    {
     "name": "stdout",
     "output_type": "stream",
     "text": [
      "[[6.74000e-01 6.45000e-01 1.26903e+05 ... 1.04851e+02 3.00000e+00\n",
      "  1.27000e-01]\n",
      " [7.97000e-01 6.95000e-01 9.82000e+04 ... 1.02009e+02 1.00000e+00\n",
      "  6.55000e-01]\n",
      " [9.94000e-01 4.34000e-01 1.81640e+05 ... 1.30418e+02 5.00000e+00\n",
      "  4.57000e-01]\n",
      " ...\n",
      " [8.95000e-01 5.35000e-01 1.87601e+05 ... 1.45095e+02 4.00000e+00\n",
      "  6.63000e-02]\n",
      " [2.06000e-01 6.96000e-01 1.42003e+05 ... 9.00290e+01 4.00000e+00\n",
      "  4.38000e-01]\n",
      " [1.05000e-01 6.86000e-01 2.14360e+05 ... 1.12204e+02 4.00000e+00\n",
      "  9.75000e-01]]\n"
     ]
    }
   ],
   "source": [
    "print(X)"
   ]
  },
  {
   "cell_type": "markdown",
   "metadata": {
    "colab_type": "text",
    "id": "vHol938cW8zd"
   },
   "source": [
    "### Splitting the dataset into the Training set and Test set"
   ]
  },
  {
   "cell_type": "code",
   "execution_count": 7,
   "metadata": {
    "colab": {},
    "colab_type": "code",
    "id": "Z-TDt0Y_XEfc"
   },
   "outputs": [],
   "source": [
    "from sklearn.model_selection import train_test_split\n",
    "X_train, X_test, y_train, y_test = train_test_split(X, y, test_size = 0.2, random_state = 0)"
   ]
  },
  {
   "cell_type": "markdown",
   "metadata": {
    "colab_type": "text",
    "id": "RE_FcHyfV3TQ"
   },
   "source": [
    "### Feature Scaling"
   ]
  },
  {
   "cell_type": "code",
   "execution_count": 8,
   "metadata": {
    "colab": {},
    "colab_type": "code",
    "id": "ViCrE00rV8Sk"
   },
   "outputs": [],
   "source": [
    "from sklearn.preprocessing import StandardScaler\n",
    "sc = StandardScaler()\n",
    "X_train = sc.fit_transform(X_train)\n",
    "X_test = sc.transform(X_test)"
   ]
  },
  {
   "cell_type": "markdown",
   "metadata": {
    "colab_type": "text",
    "id": "-zfEzkRVXIwF"
   },
   "source": [
    "## Part 2 - Building the ANN"
   ]
  },
  {
   "cell_type": "markdown",
   "metadata": {
    "colab_type": "text",
    "id": "KvdeScabXtlB"
   },
   "source": [
    "### Initializing the ANN"
   ]
  },
  {
   "cell_type": "code",
   "execution_count": 9,
   "metadata": {
    "colab": {},
    "colab_type": "code",
    "id": "3dtrScHxXQox"
   },
   "outputs": [
    {
     "name": "stdout",
     "output_type": "stream",
     "text": [
      "Metal device set to: Apple M1\n"
     ]
    },
    {
     "name": "stderr",
     "output_type": "stream",
     "text": [
      "2022-01-01 14:42:42.819088: I tensorflow/core/common_runtime/pluggable_device/pluggable_device_factory.cc:305] Could not identify NUMA node of platform GPU ID 0, defaulting to 0. Your kernel may not have been built with NUMA support.\n",
      "2022-01-01 14:42:42.819230: I tensorflow/core/common_runtime/pluggable_device/pluggable_device_factory.cc:271] Created TensorFlow device (/job:localhost/replica:0/task:0/device:GPU:0 with 0 MB memory) -> physical PluggableDevice (device: 0, name: METAL, pci bus id: <undefined>)\n"
     ]
    }
   ],
   "source": [
    "ann = tf.keras.models.Sequential()"
   ]
  },
  {
   "cell_type": "markdown",
   "metadata": {
    "colab_type": "text",
    "id": "rP6urV6SX7kS"
   },
   "source": [
    "### Adding the input layer and the first hidden layer"
   ]
  },
  {
   "cell_type": "code",
   "execution_count": 10,
   "metadata": {
    "colab": {},
    "colab_type": "code",
    "id": "bppGycBXYCQr"
   },
   "outputs": [],
   "source": [
    "ann.add(tf.keras.layers.Dense(64, input_dim=14, activation='leaky_relu')) #must use REctifier act. func (RELU)"
   ]
  },
  {
   "cell_type": "markdown",
   "metadata": {
    "colab_type": "text",
    "id": "BELWAc_8YJze"
   },
   "source": [
    "### Adding the second hidden layer"
   ]
  },
  {
   "cell_type": "code",
   "execution_count": 11,
   "metadata": {
    "colab": {},
    "colab_type": "code",
    "id": "JneR0u0sYRTd"
   },
   "outputs": [],
   "source": [
    "ann.add(tf.keras.layers.Dense(units=32, activation='leaky_relu'))"
   ]
  },
  {
   "cell_type": "markdown",
   "metadata": {
    "colab_type": "text",
    "id": "OyNEe6RXYcU4"
   },
   "source": [
    "### Adding the output layer"
   ]
  },
  {
   "cell_type": "code",
   "execution_count": 12,
   "metadata": {
    "colab": {},
    "colab_type": "code",
    "id": "Cn3x41RBYfvY"
   },
   "outputs": [],
   "source": [
    "ann.add(tf.keras.layers.Dense(units=1, activation='linear'))"
   ]
  },
  {
   "cell_type": "markdown",
   "metadata": {
    "colab_type": "text",
    "id": "JT4u2S1_Y4WG"
   },
   "source": [
    "## Part 3 - Training the ANN"
   ]
  },
  {
   "cell_type": "markdown",
   "metadata": {
    "colab_type": "text",
    "id": "8GWlJChhY_ZI"
   },
   "source": [
    "### Compiling the ANN"
   ]
  },
  {
   "cell_type": "code",
   "execution_count": 13,
   "metadata": {
    "colab": {},
    "colab_type": "code",
    "id": "fG3RrwDXZEaS"
   },
   "outputs": [],
   "source": [
    "ann.compile(optimizer = 'adam', loss = 'mse', metrics = ['mae'])\n"
   ]
  },
  {
   "cell_type": "code",
   "execution_count": 14,
   "metadata": {},
   "outputs": [
    {
     "name": "stdout",
     "output_type": "stream",
     "text": [
      "Model: \"sequential\"\n",
      "_________________________________________________________________\n",
      " Layer (type)                Output Shape              Param #   \n",
      "=================================================================\n",
      " dense (Dense)               (None, 64)                960       \n",
      "                                                                 \n",
      " dense_1 (Dense)             (None, 32)                2080      \n",
      "                                                                 \n",
      " dense_2 (Dense)             (None, 1)                 33        \n",
      "                                                                 \n",
      "=================================================================\n",
      "Total params: 3,073\n",
      "Trainable params: 3,073\n",
      "Non-trainable params: 0\n",
      "_________________________________________________________________\n"
     ]
    }
   ],
   "source": [
    "ann.summary()"
   ]
  },
  {
   "cell_type": "markdown",
   "metadata": {
    "colab_type": "text",
    "id": "0QR_G5u7ZLSM"
   },
   "source": [
    "### Training the ANN on the Training set"
   ]
  },
  {
   "cell_type": "code",
   "execution_count": 15,
   "metadata": {
    "colab": {
     "base_uri": "https://localhost:8080/",
     "height": 1000
    },
    "colab_type": "code",
    "id": "nHZ-LKv_ZRb3",
    "outputId": "718cc4b0-b5aa-40f0-9b20-d3d31730a531"
   },
   "outputs": [
    {
     "name": "stderr",
     "output_type": "stream",
     "text": [
      "2022-01-01 14:42:42.918508: W tensorflow/core/platform/profile_utils/cpu_utils.cc:128] Failed to get CPU frequency: 0 Hz\n"
     ]
    },
    {
     "name": "stdout",
     "output_type": "stream",
     "text": [
      "Epoch 1/100\n"
     ]
    },
    {
     "name": "stderr",
     "output_type": "stream",
     "text": [
      "2022-01-01 14:42:43.035936: I tensorflow/core/grappler/optimizers/custom_graph_optimizer_registry.cc:112] Plugin optimizer for device_type GPU is enabled.\n"
     ]
    },
    {
     "name": "stdout",
     "output_type": "stream",
     "text": [
      "11733/11734 [============================>.] - ETA: 0s - loss: 249.0604 - mae: 12.6880"
     ]
    },
    {
     "name": "stderr",
     "output_type": "stream",
     "text": [
      "2022-01-01 14:43:34.312079: I tensorflow/core/grappler/optimizers/custom_graph_optimizer_registry.cc:112] Plugin optimizer for device_type GPU is enabled.\n"
     ]
    },
    {
     "name": "stdout",
     "output_type": "stream",
     "text": [
      "11734/11734 [==============================] - 58s 5ms/step - loss: 249.0579 - mae: 12.6879 - val_loss: 235.1939 - val_mae: 12.2514\n",
      "Epoch 2/100\n",
      "11734/11734 [==============================] - 61s 5ms/step - loss: 233.7002 - mae: 12.2630 - val_loss: 231.4859 - val_mae: 12.1449\n",
      "Epoch 3/100\n",
      "11734/11734 [==============================] - 62s 5ms/step - loss: 230.2923 - mae: 12.1356 - val_loss: 229.2373 - val_mae: 12.0510\n",
      "Epoch 4/100\n",
      "11734/11734 [==============================] - 58s 5ms/step - loss: 228.3722 - mae: 12.0545 - val_loss: 226.1685 - val_mae: 11.9911\n",
      "Epoch 5/100\n",
      "11734/11734 [==============================] - 60s 5ms/step - loss: 227.1574 - mae: 12.0084 - val_loss: 226.0665 - val_mae: 11.9342\n",
      "Epoch 6/100\n",
      "11734/11734 [==============================] - 66s 6ms/step - loss: 226.1906 - mae: 11.9707 - val_loss: 223.7780 - val_mae: 11.9066\n",
      "Epoch 7/100\n",
      "11734/11734 [==============================] - 59s 5ms/step - loss: 225.3798 - mae: 11.9395 - val_loss: 226.5343 - val_mae: 11.9316\n",
      "Epoch 8/100\n",
      "11734/11734 [==============================] - 60s 5ms/step - loss: 224.7938 - mae: 11.9166 - val_loss: 224.4424 - val_mae: 11.8700\n",
      "Epoch 9/100\n",
      "11734/11734 [==============================] - 59s 5ms/step - loss: 224.3115 - mae: 11.8975 - val_loss: 223.0717 - val_mae: 11.9114\n",
      "Epoch 10/100\n",
      "11734/11734 [==============================] - 57s 5ms/step - loss: 223.8840 - mae: 11.8822 - val_loss: 222.3119 - val_mae: 11.8235\n",
      "Epoch 11/100\n",
      "11734/11734 [==============================] - 57s 5ms/step - loss: 223.4175 - mae: 11.8659 - val_loss: 221.3348 - val_mae: 11.8063\n",
      "Epoch 12/100\n",
      "11734/11734 [==============================] - 58s 5ms/step - loss: 223.0310 - mae: 11.8516 - val_loss: 221.5108 - val_mae: 11.8255\n",
      "Epoch 13/100\n",
      "11734/11734 [==============================] - 58s 5ms/step - loss: 222.6197 - mae: 11.8351 - val_loss: 221.9287 - val_mae: 11.8729\n",
      "Epoch 14/100\n",
      "11734/11734 [==============================] - 57s 5ms/step - loss: 222.3357 - mae: 11.8278 - val_loss: 222.0587 - val_mae: 11.8557\n",
      "Epoch 15/100\n",
      "11734/11734 [==============================] - 59s 5ms/step - loss: 222.1434 - mae: 11.8185 - val_loss: 220.5509 - val_mae: 11.7886\n",
      "Epoch 16/100\n",
      "11734/11734 [==============================] - 58s 5ms/step - loss: 221.8518 - mae: 11.8107 - val_loss: 220.4499 - val_mae: 11.7780\n",
      "Epoch 17/100\n",
      "11734/11734 [==============================] - 58s 5ms/step - loss: 221.7012 - mae: 11.8061 - val_loss: 220.4891 - val_mae: 11.8053\n",
      "Epoch 18/100\n",
      "11734/11734 [==============================] - 58s 5ms/step - loss: 221.4985 - mae: 11.7973 - val_loss: 220.3308 - val_mae: 11.8197\n",
      "Epoch 19/100\n",
      "11734/11734 [==============================] - 58s 5ms/step - loss: 221.2731 - mae: 11.7869 - val_loss: 220.2440 - val_mae: 11.8127\n",
      "Epoch 20/100\n",
      "11734/11734 [==============================] - 58s 5ms/step - loss: 221.0856 - mae: 11.7852 - val_loss: 220.5302 - val_mae: 11.7118\n",
      "Epoch 21/100\n",
      "11734/11734 [==============================] - 59s 5ms/step - loss: 220.9459 - mae: 11.7781 - val_loss: 219.7293 - val_mae: 11.7173\n",
      "Epoch 22/100\n",
      "11734/11734 [==============================] - 57s 5ms/step - loss: 220.7839 - mae: 11.7736 - val_loss: 219.7745 - val_mae: 11.7871\n",
      "Epoch 23/100\n",
      "11734/11734 [==============================] - 54s 5ms/step - loss: 220.6102 - mae: 11.7664 - val_loss: 219.7405 - val_mae: 11.7134\n",
      "Epoch 24/100\n",
      "11734/11734 [==============================] - 56s 5ms/step - loss: 220.5069 - mae: 11.7633 - val_loss: 220.3104 - val_mae: 11.8543\n",
      "Epoch 25/100\n",
      "11734/11734 [==============================] - 60s 5ms/step - loss: 220.4041 - mae: 11.7617 - val_loss: 219.2224 - val_mae: 11.7347\n",
      "Epoch 26/100\n",
      "11734/11734 [==============================] - 54s 5ms/step - loss: 220.2211 - mae: 11.7554 - val_loss: 219.4849 - val_mae: 11.7691\n",
      "Epoch 27/100\n",
      "11734/11734 [==============================] - 54s 5ms/step - loss: 220.1213 - mae: 11.7517 - val_loss: 220.0152 - val_mae: 11.7870\n",
      "Epoch 28/100\n",
      "11734/11734 [==============================] - 54s 5ms/step - loss: 219.9739 - mae: 11.7461 - val_loss: 219.7125 - val_mae: 11.6608\n",
      "Epoch 29/100\n",
      "11734/11734 [==============================] - 54s 5ms/step - loss: 219.9215 - mae: 11.7447 - val_loss: 219.9979 - val_mae: 11.8253\n",
      "Epoch 30/100\n",
      "11734/11734 [==============================] - 54s 5ms/step - loss: 219.7875 - mae: 11.7398 - val_loss: 219.3061 - val_mae: 11.7098\n",
      "Epoch 31/100\n",
      "11734/11734 [==============================] - 54s 5ms/step - loss: 219.6973 - mae: 11.7363 - val_loss: 219.8124 - val_mae: 11.7976\n",
      "Epoch 32/100\n",
      "11734/11734 [==============================] - 54s 5ms/step - loss: 219.5922 - mae: 11.7351 - val_loss: 218.8969 - val_mae: 11.6947\n",
      "Epoch 33/100\n",
      "11734/11734 [==============================] - 54s 5ms/step - loss: 219.6105 - mae: 11.7327 - val_loss: 219.1248 - val_mae: 11.6432\n",
      "Epoch 34/100\n",
      "11734/11734 [==============================] - 54s 5ms/step - loss: 219.4897 - mae: 11.7271 - val_loss: 218.6893 - val_mae: 11.7355\n",
      "Epoch 35/100\n",
      "11734/11734 [==============================] - 54s 5ms/step - loss: 219.3908 - mae: 11.7271 - val_loss: 219.8160 - val_mae: 11.7466\n",
      "Epoch 36/100\n",
      "11734/11734 [==============================] - 54s 5ms/step - loss: 219.2816 - mae: 11.7228 - val_loss: 218.9015 - val_mae: 11.7280\n",
      "Epoch 37/100\n",
      "11734/11734 [==============================] - 54s 5ms/step - loss: 219.2969 - mae: 11.7236 - val_loss: 219.8425 - val_mae: 11.6429\n",
      "Epoch 38/100\n",
      "11734/11734 [==============================] - 54s 5ms/step - loss: 219.2486 - mae: 11.7215 - val_loss: 219.3298 - val_mae: 11.6907\n",
      "Epoch 39/100\n",
      "11734/11734 [==============================] - 54s 5ms/step - loss: 219.0615 - mae: 11.7178 - val_loss: 218.5822 - val_mae: 11.6832\n",
      "Epoch 40/100\n",
      "11734/11734 [==============================] - 54s 5ms/step - loss: 218.9913 - mae: 11.7120 - val_loss: 220.4347 - val_mae: 11.8547\n",
      "Epoch 41/100\n",
      "11734/11734 [==============================] - 54s 5ms/step - loss: 218.9765 - mae: 11.7156 - val_loss: 219.2619 - val_mae: 11.7657\n",
      "Epoch 42/100\n",
      "11734/11734 [==============================] - 54s 5ms/step - loss: 219.0173 - mae: 11.7139 - val_loss: 220.9901 - val_mae: 11.7391\n",
      "Epoch 43/100\n",
      "11734/11734 [==============================] - 54s 5ms/step - loss: 218.8992 - mae: 11.7121 - val_loss: 218.6741 - val_mae: 11.7520\n",
      "Epoch 44/100\n",
      "11734/11734 [==============================] - 54s 5ms/step - loss: 218.8268 - mae: 11.7071 - val_loss: 219.8646 - val_mae: 11.7269\n",
      "Epoch 45/100\n",
      "11734/11734 [==============================] - 54s 5ms/step - loss: 218.8041 - mae: 11.7082 - val_loss: 218.3342 - val_mae: 11.7560\n",
      "Epoch 46/100\n",
      "11734/11734 [==============================] - 54s 5ms/step - loss: 218.7018 - mae: 11.7062 - val_loss: 219.3401 - val_mae: 11.7147\n",
      "Epoch 47/100\n",
      "11734/11734 [==============================] - 54s 5ms/step - loss: 218.6539 - mae: 11.7013 - val_loss: 221.9304 - val_mae: 11.7971\n",
      "Epoch 48/100\n",
      "11734/11734 [==============================] - 54s 5ms/step - loss: 218.6016 - mae: 11.7028 - val_loss: 218.1632 - val_mae: 11.7338\n",
      "Epoch 49/100\n",
      "11734/11734 [==============================] - 54s 5ms/step - loss: 218.5848 - mae: 11.7005 - val_loss: 219.2510 - val_mae: 11.6234\n",
      "Epoch 50/100\n",
      "11734/11734 [==============================] - 54s 5ms/step - loss: 218.5645 - mae: 11.6997 - val_loss: 218.8042 - val_mae: 11.7372\n",
      "Epoch 51/100\n",
      "11734/11734 [==============================] - 54s 5ms/step - loss: 218.4447 - mae: 11.6951 - val_loss: 219.0247 - val_mae: 11.7377\n",
      "Epoch 52/100\n",
      "11734/11734 [==============================] - 54s 5ms/step - loss: 218.3847 - mae: 11.6942 - val_loss: 218.8239 - val_mae: 11.6810\n",
      "Epoch 53/100\n",
      "11734/11734 [==============================] - 54s 5ms/step - loss: 218.4202 - mae: 11.6931 - val_loss: 218.1729 - val_mae: 11.6546\n",
      "Epoch 54/100\n",
      "11734/11734 [==============================] - 54s 5ms/step - loss: 218.3095 - mae: 11.6931 - val_loss: 218.3793 - val_mae: 11.7108\n",
      "Epoch 55/100\n",
      "11734/11734 [==============================] - 54s 5ms/step - loss: 218.3553 - mae: 11.6937 - val_loss: 218.7780 - val_mae: 11.7159\n",
      "Epoch 56/100\n",
      "11734/11734 [==============================] - 54s 5ms/step - loss: 218.1960 - mae: 11.6893 - val_loss: 218.1764 - val_mae: 11.7111\n",
      "Epoch 57/100\n",
      "11734/11734 [==============================] - 52s 4ms/step - loss: 218.2492 - mae: 11.6919 - val_loss: 217.7260 - val_mae: 11.6712\n",
      "Epoch 58/100\n",
      "11734/11734 [==============================] - 52s 4ms/step - loss: 218.1940 - mae: 11.6889 - val_loss: 218.3994 - val_mae: 11.7153\n",
      "Epoch 59/100\n",
      "11734/11734 [==============================] - 52s 4ms/step - loss: 218.1185 - mae: 11.6861 - val_loss: 218.0265 - val_mae: 11.6802\n",
      "Epoch 60/100\n",
      "11734/11734 [==============================] - 52s 4ms/step - loss: 218.0742 - mae: 11.6850 - val_loss: 218.2544 - val_mae: 11.7061\n",
      "Epoch 61/100\n",
      "11734/11734 [==============================] - 52s 4ms/step - loss: 218.0542 - mae: 11.6840 - val_loss: 218.3733 - val_mae: 11.6792\n",
      "Epoch 62/100\n",
      "11734/11734 [==============================] - 52s 4ms/step - loss: 218.0284 - mae: 11.6813 - val_loss: 219.5752 - val_mae: 11.7071\n",
      "Epoch 63/100\n",
      "11734/11734 [==============================] - 52s 4ms/step - loss: 217.9170 - mae: 11.6798 - val_loss: 218.2494 - val_mae: 11.6413\n",
      "Epoch 64/100\n",
      "11734/11734 [==============================] - 52s 4ms/step - loss: 217.9116 - mae: 11.6811 - val_loss: 218.4046 - val_mae: 11.7040\n",
      "Epoch 65/100\n",
      "11734/11734 [==============================] - 52s 4ms/step - loss: 217.9357 - mae: 11.6793 - val_loss: 218.7692 - val_mae: 11.7721\n",
      "Epoch 66/100\n",
      "11734/11734 [==============================] - 52s 4ms/step - loss: 217.9060 - mae: 11.6799 - val_loss: 217.3295 - val_mae: 11.6865\n",
      "Epoch 67/100\n",
      "11734/11734 [==============================] - 52s 4ms/step - loss: 217.8422 - mae: 11.6783 - val_loss: 218.3915 - val_mae: 11.6936\n",
      "Epoch 68/100\n",
      "11734/11734 [==============================] - 52s 4ms/step - loss: 217.8778 - mae: 11.6790 - val_loss: 218.7930 - val_mae: 11.6145\n",
      "Epoch 69/100\n",
      "11734/11734 [==============================] - 52s 4ms/step - loss: 217.8078 - mae: 11.6758 - val_loss: 218.6183 - val_mae: 11.7380\n",
      "Epoch 70/100\n",
      "11734/11734 [==============================] - 52s 4ms/step - loss: 217.7602 - mae: 11.6744 - val_loss: 218.1346 - val_mae: 11.5898\n",
      "Epoch 71/100\n",
      "11734/11734 [==============================] - 52s 4ms/step - loss: 217.6921 - mae: 11.6728 - val_loss: 218.4271 - val_mae: 11.7101\n",
      "Epoch 72/100\n",
      "11734/11734 [==============================] - 52s 4ms/step - loss: 217.6983 - mae: 11.6726 - val_loss: 217.8882 - val_mae: 11.6662\n",
      "Epoch 73/100\n",
      "11734/11734 [==============================] - 52s 4ms/step - loss: 217.7361 - mae: 11.6735 - val_loss: 217.8872 - val_mae: 11.7102\n",
      "Epoch 74/100\n",
      "11734/11734 [==============================] - 52s 4ms/step - loss: 217.6775 - mae: 11.6725 - val_loss: 217.6513 - val_mae: 11.7116\n",
      "Epoch 75/100\n",
      "11734/11734 [==============================] - 52s 4ms/step - loss: 217.5834 - mae: 11.6675 - val_loss: 217.5051 - val_mae: 11.6391\n",
      "Epoch 76/100\n",
      "11734/11734 [==============================] - 52s 4ms/step - loss: 217.5952 - mae: 11.6682 - val_loss: 218.7052 - val_mae: 11.7071\n",
      "Epoch 77/100\n",
      "11734/11734 [==============================] - 52s 4ms/step - loss: 217.5599 - mae: 11.6681 - val_loss: 217.4353 - val_mae: 11.6952\n",
      "Epoch 78/100\n",
      "11734/11734 [==============================] - 52s 4ms/step - loss: 217.4804 - mae: 11.6682 - val_loss: 218.5147 - val_mae: 11.6804\n",
      "Epoch 79/100\n",
      "11734/11734 [==============================] - 52s 4ms/step - loss: 217.5336 - mae: 11.6680 - val_loss: 217.8847 - val_mae: 11.7013\n",
      "Epoch 80/100\n",
      "11734/11734 [==============================] - 52s 4ms/step - loss: 217.4884 - mae: 11.6647 - val_loss: 217.5319 - val_mae: 11.6639\n",
      "Epoch 81/100\n",
      "11734/11734 [==============================] - 52s 4ms/step - loss: 217.4315 - mae: 11.6646 - val_loss: 217.9122 - val_mae: 11.6458\n",
      "Epoch 82/100\n",
      "11734/11734 [==============================] - 52s 4ms/step - loss: 217.4976 - mae: 11.6655 - val_loss: 218.0285 - val_mae: 11.7082\n",
      "Epoch 83/100\n",
      "11734/11734 [==============================] - 52s 4ms/step - loss: 217.4498 - mae: 11.6659 - val_loss: 217.3472 - val_mae: 11.6462\n",
      "Epoch 84/100\n",
      "11734/11734 [==============================] - 52s 4ms/step - loss: 217.3453 - mae: 11.6622 - val_loss: 217.6319 - val_mae: 11.6910\n",
      "Epoch 85/100\n",
      "11734/11734 [==============================] - 52s 4ms/step - loss: 217.3919 - mae: 11.6628 - val_loss: 218.7253 - val_mae: 11.7880\n",
      "Epoch 86/100\n",
      "11734/11734 [==============================] - 52s 4ms/step - loss: 217.3592 - mae: 11.6626 - val_loss: 218.0889 - val_mae: 11.6950\n",
      "Epoch 87/100\n",
      "11734/11734 [==============================] - 58s 5ms/step - loss: 217.3347 - mae: 11.6623 - val_loss: 217.4597 - val_mae: 11.6393\n",
      "Epoch 88/100\n",
      "11734/11734 [==============================] - 62s 5ms/step - loss: 217.2462 - mae: 11.6584 - val_loss: 217.6898 - val_mae: 11.6835\n",
      "Epoch 89/100\n",
      "11734/11734 [==============================] - 57s 5ms/step - loss: 217.3172 - mae: 11.6606 - val_loss: 217.8963 - val_mae: 11.6976\n",
      "Epoch 90/100\n",
      "11734/11734 [==============================] - 59s 5ms/step - loss: 217.2867 - mae: 11.6604 - val_loss: 217.6453 - val_mae: 11.6830\n",
      "Epoch 91/100\n",
      "11734/11734 [==============================] - 59s 5ms/step - loss: 217.3151 - mae: 11.6607 - val_loss: 217.9093 - val_mae: 11.6485\n",
      "Epoch 92/100\n",
      "11734/11734 [==============================] - 61s 5ms/step - loss: 217.2912 - mae: 11.6589 - val_loss: 217.4295 - val_mae: 11.6465\n",
      "Epoch 93/100\n",
      "11734/11734 [==============================] - 60s 5ms/step - loss: 217.1852 - mae: 11.6557 - val_loss: 217.8100 - val_mae: 11.7330\n",
      "Epoch 94/100\n",
      "11734/11734 [==============================] - 59s 5ms/step - loss: 217.2216 - mae: 11.6588 - val_loss: 216.8895 - val_mae: 11.6487\n",
      "Epoch 95/100\n",
      "11734/11734 [==============================] - 63s 5ms/step - loss: 217.1818 - mae: 11.6585 - val_loss: 218.6739 - val_mae: 11.5952\n",
      "Epoch 96/100\n",
      "11734/11734 [==============================] - 61s 5ms/step - loss: 217.1781 - mae: 11.6557 - val_loss: 217.7625 - val_mae: 11.6638\n",
      "Epoch 97/100\n",
      "11734/11734 [==============================] - 60s 5ms/step - loss: 217.1745 - mae: 11.6572 - val_loss: 218.7467 - val_mae: 11.6402\n",
      "Epoch 98/100\n",
      "11734/11734 [==============================] - 64s 5ms/step - loss: 217.1733 - mae: 11.6549 - val_loss: 219.9078 - val_mae: 11.6941\n",
      "Epoch 99/100\n",
      "11734/11734 [==============================] - 61s 5ms/step - loss: 217.0584 - mae: 11.6535 - val_loss: 217.0929 - val_mae: 11.6493\n",
      "Epoch 100/100\n",
      "11734/11734 [==============================] - 59s 5ms/step - loss: 216.9917 - mae: 11.6518 - val_loss: 217.8954 - val_mae: 11.7015\n"
     ]
    }
   ],
   "source": [
    "history = ann.fit(X_train, y_train, validation_split=0.2, epochs = 100)"
   ]
  },
  {
   "cell_type": "code",
   "execution_count": 16,
   "metadata": {},
   "outputs": [
    {
     "data": {
      "image/png": "[encoded data removed]",
      "text/plain": [
       "<Figure size 432x288 with 1 Axes>"
      ]
     },
     "metadata": {
      "needs_background": "light"
     },
     "output_type": "display_data"
    },
    {
     "data": {
      "image/png": "[encoded data removed]",
      "text/plain": [
       "<Figure size 432x288 with 1 Axes>"
      ]
     },
     "metadata": {
      "needs_background": "light"
     },
     "output_type": "display_data"
    }
   ],
   "source": [
    "from matplotlib import pyplot as plt\n",
    "#plot training and validation accuracy and loss at each epoch\n",
    "loss = history.history['loss']\n",
    "val_loss = history.history['val_loss']\n",
    "epochs = range(1, len(loss) + 1)\n",
    "plt.plot(epochs, loss, 'y', label='Training loss')\n",
    "plt.plot(epochs, val_loss, 'r', label='Validation loss')\n",
    "plt.title('Training and validation loss')\n",
    "plt.xlabel('Epochs')\n",
    "plt.ylabel('loss')\n",
    "plt.legend()\n",
    "plt.show()\n",
    "\n",
    "acc = history.history['mae']\n",
    "val_acc = history.history['val_mae']\n",
    "plt.plot(epochs, acc, 'y', label='Training MAE')\n",
    "plt.plot(epochs, val_acc, 'r', label='Validation MAE')\n",
    "plt.title('Training and validation MAE')\n",
    "plt.xlabel('Epochs')\n",
    "plt.ylabel('Accuracy')\n",
    "plt.legend()\n",
    "plt.show()"
   ]
  },
  {
   "cell_type": "code",
   "execution_count": 17,
   "metadata": {},
   "outputs": [
    {
     "name": "stdout",
     "output_type": "stream",
     "text": [
      "Predicted values are:  [[47.035934]\n",
      " [47.787197]\n",
      " [17.721573]\n",
      " [25.798347]\n",
      " [21.966389]]\n",
      "Real values are:  [66 19 38  8  0]\n"
     ]
    },
    {
     "name": "stderr",
     "output_type": "stream",
     "text": [
      "2022-01-01 16:15:13.091571: I tensorflow/core/grappler/optimizers/custom_graph_optimizer_registry.cc:112] Plugin optimizer for device_type GPU is enabled.\n"
     ]
    }
   ],
   "source": [
    "#Predictions on test data\n",
    "predictions = ann.predict(X_test[:5])\n",
    "print(\"Predicted values are: \", predictions)\n",
    "print(\"Real values are: \", y_test[:5])"
   ]
  },
  {
   "cell_type": "code",
   "execution_count": 18,
   "metadata": {},
   "outputs": [
    {
     "name": "stdout",
     "output_type": "stream",
     "text": [
      "3667/3667 [==============================] - 12s 3ms/step - loss: 219.8569 - mae: 11.7405\n",
      "Mean Squared error from neural net:  219.85691833496094\n",
      "Mean absolute error from neural net:  11.740472793579102\n",
      "Mean Squared error from linear regression:  261.56607096298575\n",
      "Mean absolute error from linear regression:  13.12149229540495\n",
      "Mean Squared error from decision tree:  412.66705124419275\n",
      "Mean absolute error from decision tree:  15.450753652716507\n",
      "Mean Squared error from Random Forest:  227.14916580993795\n",
      "Mean absolute error from Random Forest:  11.780175465736146\n"
     ]
    }
   ],
   "source": [
    "#compare with other models see which is better\n",
    "from sklearn import linear_model\n",
    "from sklearn.tree import DecisionTreeRegressor\n",
    "from sklearn.metrics import mean_squared_error, mean_absolute_error\n",
    "\n",
    "#comparison with other models\n",
    "#neural network of this code (this model)\n",
    "mse_neural, mae_neural = ann.evaluate(X_test, y_test)\n",
    "print('Mean Squared error from neural net: ', mse_neural)\n",
    "print('Mean absolute error from neural net: ', mae_neural)\n",
    "\n",
    "\n",
    "## linear regression\n",
    "lr_model = linear_model.LinearRegression()\n",
    "lr_model.fit(X_train, y_train)\n",
    "y_pred_lr = lr_model.predict(X_test)\n",
    "mse_lr = mean_squared_error(y_test, y_pred_lr)\n",
    "mae_lr = mean_absolute_error(y_test, y_pred_lr)\n",
    "print('Mean Squared error from linear regression: ', mse_lr)\n",
    "print('Mean absolute error from linear regression: ', mae_lr)\n",
    "\n",
    "\n",
    "## Decision Tree\n",
    "tree = DecisionTreeRegressor()\n",
    "tree.fit(X_train, y_train)\n",
    "y_pred_tree = tree.predict(X_test)\n",
    "mse_dt = mean_squared_error(y_test, y_pred_tree)\n",
    "mae_dt = mean_absolute_error(y_test, y_pred_tree)\n",
    "print('Mean Squared error from decision tree: ', mse_dt)\n",
    "print('Mean absolute error from decision tree: ', mae_dt)\n",
    "\n",
    "\n",
    "##Random Forest\n",
    "from sklearn.ensemble import RandomForestRegressor\n",
    "model = RandomForestRegressor(n_estimators = 10, random_state=30)\n",
    "model.fit(X_train, y_train)\n",
    "\n",
    "y_pred_RF = model.predict(X_test)\n",
    "\n",
    "mse_RF = mean_squared_error(y_test, y_pred_RF)\n",
    "mae_RF = mean_absolute_error(y_test, y_pred_RF)\n",
    "print('Mean Squared error from Random Forest: ', mse_RF)\n",
    "print('Mean absolute error from Random Forest: ', mae_RF)"
   ]
  }
 ],
 "metadata": {
  "colab": {
   "collapsed_sections": [],
   "name": "artificial_neural_network.ipynb",
   "provenance": [],
   "toc_visible": true
  },
  "kernelspec": {
   "display_name": "Python 3 (ipykernel)",
   "language": "python",
   "name": "python3"
  },
  "language_info": {
   "codemirror_mode": {
    "name": "ipython",
    "version": 3
   },
   "file_extension": ".py",
   "mimetype": "text/x-python",
   "name": "python",
   "nbconvert_exporter": "python",
   "pygments_lexer": "ipython3",
   "version": "3.8.11"
  }
 },
 "nbformat": 4,
 "nbformat_minor": 1
}
