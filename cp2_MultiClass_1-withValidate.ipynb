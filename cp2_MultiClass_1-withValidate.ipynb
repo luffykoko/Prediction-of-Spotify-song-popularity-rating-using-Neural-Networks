{
 "cells": [
  {
   "cell_type": "markdown",
   "metadata": {
    "colab_type": "text",
    "id": "lP6JLo1tGNBg"
   },
   "source": [
    "# Artificial Neural Network"
   ]
  },
  {
   "cell_type": "markdown",
   "metadata": {
    "colab_type": "text",
    "id": "gWZyYmS_UE_L"
   },
   "source": [
    "### Importing the libraries"
   ]
  },
  {
   "cell_type": "code",
   "execution_count": 1,
   "metadata": {
    "colab": {},
    "colab_type": "code",
    "id": "MxkJoQBkUIHC"
   },
   "outputs": [],
   "source": [
    "import numpy as np\n",
    "import pandas as pd\n",
    "import tensorflow as tf\n",
    "from sklearn.preprocessing import OrdinalEncoder, LabelEncoder, OneHotEncoder"
   ]
  },
  {
   "cell_type": "markdown",
   "metadata": {
    "colab_type": "text",
    "id": "1E0Q3aoKUCRX"
   },
   "source": [
    "## Part 1 - Data Preprocessing"
   ]
  },
  {
   "cell_type": "markdown",
   "metadata": {
    "colab_type": "text",
    "id": "cKWAkFVGUU0Z"
   },
   "source": [
    "### Importing the dataset"
   ]
  },
  {
   "cell_type": "code",
   "execution_count": 17,
   "metadata": {},
   "outputs": [
    {
     "data": {
      "text/html": [
       "<div>\n",
       "<style scoped>\n",
       "    .dataframe tbody tr th:only-of-type {\n",
       "        vertical-align: middle;\n",
       "    }\n",
       "\n",
       "    .dataframe tbody tr th {\n",
       "        vertical-align: top;\n",
       "    }\n",
       "\n",
       "    .dataframe thead th {\n",
       "        text-align: right;\n",
       "    }\n",
       "</style>\n",
       "<table border=\"1\" class=\"dataframe\">\n",
       "  <thead>\n",
       "    <tr style=\"text-align: right;\">\n",
       "      <th></th>\n",
       "      <th>id</th>\n",
       "      <th>name</th>\n",
       "      <th>popularity</th>\n",
       "      <th>duration_ms</th>\n",
       "      <th>explicit</th>\n",
       "      <th>artists</th>\n",
       "      <th>id_artists</th>\n",
       "      <th>release_date</th>\n",
       "      <th>danceability</th>\n",
       "      <th>energy</th>\n",
       "      <th>key</th>\n",
       "      <th>loudness</th>\n",
       "      <th>mode</th>\n",
       "      <th>speechiness</th>\n",
       "      <th>acousticness</th>\n",
       "      <th>instrumentalness</th>\n",
       "      <th>liveness</th>\n",
       "      <th>valence</th>\n",
       "      <th>tempo</th>\n",
       "      <th>time_signature</th>\n",
       "    </tr>\n",
       "  </thead>\n",
       "  <tbody>\n",
       "    <tr>\n",
       "      <th>0</th>\n",
       "      <td>False</td>\n",
       "      <td>False</td>\n",
       "      <td>False</td>\n",
       "      <td>False</td>\n",
       "      <td>False</td>\n",
       "      <td>False</td>\n",
       "      <td>False</td>\n",
       "      <td>False</td>\n",
       "      <td>False</td>\n",
       "      <td>False</td>\n",
       "      <td>False</td>\n",
       "      <td>False</td>\n",
       "      <td>False</td>\n",
       "      <td>False</td>\n",
       "      <td>False</td>\n",
       "      <td>False</td>\n",
       "      <td>False</td>\n",
       "      <td>False</td>\n",
       "      <td>False</td>\n",
       "      <td>False</td>\n",
       "    </tr>\n",
       "    <tr>\n",
       "      <th>1</th>\n",
       "      <td>False</td>\n",
       "      <td>False</td>\n",
       "      <td>False</td>\n",
       "      <td>False</td>\n",
       "      <td>False</td>\n",
       "      <td>False</td>\n",
       "      <td>False</td>\n",
       "      <td>False</td>\n",
       "      <td>False</td>\n",
       "      <td>False</td>\n",
       "      <td>False</td>\n",
       "      <td>False</td>\n",
       "      <td>False</td>\n",
       "      <td>False</td>\n",
       "      <td>False</td>\n",
       "      <td>False</td>\n",
       "      <td>False</td>\n",
       "      <td>False</td>\n",
       "      <td>False</td>\n",
       "      <td>False</td>\n",
       "    </tr>\n",
       "    <tr>\n",
       "      <th>2</th>\n",
       "      <td>False</td>\n",
       "      <td>False</td>\n",
       "      <td>False</td>\n",
       "      <td>False</td>\n",
       "      <td>False</td>\n",
       "      <td>False</td>\n",
       "      <td>False</td>\n",
       "      <td>False</td>\n",
       "      <td>False</td>\n",
       "      <td>False</td>\n",
       "      <td>False</td>\n",
       "      <td>False</td>\n",
       "      <td>False</td>\n",
       "      <td>False</td>\n",
       "      <td>False</td>\n",
       "      <td>False</td>\n",
       "      <td>False</td>\n",
       "      <td>False</td>\n",
       "      <td>False</td>\n",
       "      <td>False</td>\n",
       "    </tr>\n",
       "    <tr>\n",
       "      <th>3</th>\n",
       "      <td>False</td>\n",
       "      <td>False</td>\n",
       "      <td>False</td>\n",
       "      <td>False</td>\n",
       "      <td>False</td>\n",
       "      <td>False</td>\n",
       "      <td>False</td>\n",
       "      <td>False</td>\n",
       "      <td>False</td>\n",
       "      <td>False</td>\n",
       "      <td>False</td>\n",
       "      <td>False</td>\n",
       "      <td>False</td>\n",
       "      <td>False</td>\n",
       "      <td>False</td>\n",
       "      <td>False</td>\n",
       "      <td>False</td>\n",
       "      <td>False</td>\n",
       "      <td>False</td>\n",
       "      <td>False</td>\n",
       "    </tr>\n",
       "    <tr>\n",
       "      <th>4</th>\n",
       "      <td>False</td>\n",
       "      <td>False</td>\n",
       "      <td>False</td>\n",
       "      <td>False</td>\n",
       "      <td>False</td>\n",
       "      <td>False</td>\n",
       "      <td>False</td>\n",
       "      <td>False</td>\n",
       "      <td>False</td>\n",
       "      <td>False</td>\n",
       "      <td>False</td>\n",
       "      <td>False</td>\n",
       "      <td>False</td>\n",
       "      <td>False</td>\n",
       "      <td>False</td>\n",
       "      <td>False</td>\n",
       "      <td>False</td>\n",
       "      <td>False</td>\n",
       "      <td>False</td>\n",
       "      <td>False</td>\n",
       "    </tr>\n",
       "    <tr>\n",
       "      <th>...</th>\n",
       "      <td>...</td>\n",
       "      <td>...</td>\n",
       "      <td>...</td>\n",
       "      <td>...</td>\n",
       "      <td>...</td>\n",
       "      <td>...</td>\n",
       "      <td>...</td>\n",
       "      <td>...</td>\n",
       "      <td>...</td>\n",
       "      <td>...</td>\n",
       "      <td>...</td>\n",
       "      <td>...</td>\n",
       "      <td>...</td>\n",
       "      <td>...</td>\n",
       "      <td>...</td>\n",
       "      <td>...</td>\n",
       "      <td>...</td>\n",
       "      <td>...</td>\n",
       "      <td>...</td>\n",
       "      <td>...</td>\n",
       "    </tr>\n",
       "    <tr>\n",
       "      <th>586667</th>\n",
       "      <td>False</td>\n",
       "      <td>False</td>\n",
       "      <td>False</td>\n",
       "      <td>False</td>\n",
       "      <td>False</td>\n",
       "      <td>False</td>\n",
       "      <td>False</td>\n",
       "      <td>False</td>\n",
       "      <td>False</td>\n",
       "      <td>False</td>\n",
       "      <td>False</td>\n",
       "      <td>False</td>\n",
       "      <td>False</td>\n",
       "      <td>False</td>\n",
       "      <td>False</td>\n",
       "      <td>False</td>\n",
       "      <td>False</td>\n",
       "      <td>False</td>\n",
       "      <td>False</td>\n",
       "      <td>False</td>\n",
       "    </tr>\n",
       "    <tr>\n",
       "      <th>586668</th>\n",
       "      <td>False</td>\n",
       "      <td>False</td>\n",
       "      <td>False</td>\n",
       "      <td>False</td>\n",
       "      <td>False</td>\n",
       "      <td>False</td>\n",
       "      <td>False</td>\n",
       "      <td>False</td>\n",
       "      <td>False</td>\n",
       "      <td>False</td>\n",
       "      <td>False</td>\n",
       "      <td>False</td>\n",
       "      <td>False</td>\n",
       "      <td>False</td>\n",
       "      <td>False</td>\n",
       "      <td>False</td>\n",
       "      <td>False</td>\n",
       "      <td>False</td>\n",
       "      <td>False</td>\n",
       "      <td>False</td>\n",
       "    </tr>\n",
       "    <tr>\n",
       "      <th>586669</th>\n",
       "      <td>False</td>\n",
       "      <td>False</td>\n",
       "      <td>False</td>\n",
       "      <td>False</td>\n",
       "      <td>False</td>\n",
       "      <td>False</td>\n",
       "      <td>False</td>\n",
       "      <td>False</td>\n",
       "      <td>False</td>\n",
       "      <td>False</td>\n",
       "      <td>False</td>\n",
       "      <td>False</td>\n",
       "      <td>False</td>\n",
       "      <td>False</td>\n",
       "      <td>False</td>\n",
       "      <td>False</td>\n",
       "      <td>False</td>\n",
       "      <td>False</td>\n",
       "      <td>False</td>\n",
       "      <td>False</td>\n",
       "    </tr>\n",
       "    <tr>\n",
       "      <th>586670</th>\n",
       "      <td>False</td>\n",
       "      <td>False</td>\n",
       "      <td>False</td>\n",
       "      <td>False</td>\n",
       "      <td>False</td>\n",
       "      <td>False</td>\n",
       "      <td>False</td>\n",
       "      <td>False</td>\n",
       "      <td>False</td>\n",
       "      <td>False</td>\n",
       "      <td>False</td>\n",
       "      <td>False</td>\n",
       "      <td>False</td>\n",
       "      <td>False</td>\n",
       "      <td>False</td>\n",
       "      <td>False</td>\n",
       "      <td>False</td>\n",
       "      <td>False</td>\n",
       "      <td>False</td>\n",
       "      <td>False</td>\n",
       "    </tr>\n",
       "    <tr>\n",
       "      <th>586671</th>\n",
       "      <td>False</td>\n",
       "      <td>False</td>\n",
       "      <td>False</td>\n",
       "      <td>False</td>\n",
       "      <td>False</td>\n",
       "      <td>False</td>\n",
       "      <td>False</td>\n",
       "      <td>False</td>\n",
       "      <td>False</td>\n",
       "      <td>False</td>\n",
       "      <td>False</td>\n",
       "      <td>False</td>\n",
       "      <td>False</td>\n",
       "      <td>False</td>\n",
       "      <td>False</td>\n",
       "      <td>False</td>\n",
       "      <td>False</td>\n",
       "      <td>False</td>\n",
       "      <td>False</td>\n",
       "      <td>False</td>\n",
       "    </tr>\n",
       "  </tbody>\n",
       "</table>\n",
       "<p>586672 rows × 20 columns</p>\n",
       "</div>"
      ],
      "text/plain": [
       "           id   name  popularity  duration_ms  explicit  artists  id_artists  \\\n",
       "0       False  False       False        False     False    False       False   \n",
       "1       False  False       False        False     False    False       False   \n",
       "2       False  False       False        False     False    False       False   \n",
       "3       False  False       False        False     False    False       False   \n",
       "4       False  False       False        False     False    False       False   \n",
       "...       ...    ...         ...          ...       ...      ...         ...   \n",
       "586667  False  False       False        False     False    False       False   \n",
       "586668  False  False       False        False     False    False       False   \n",
       "586669  False  False       False        False     False    False       False   \n",
       "586670  False  False       False        False     False    False       False   \n",
       "586671  False  False       False        False     False    False       False   \n",
       "\n",
       "        release_date  danceability  energy    key  loudness   mode  \\\n",
       "0              False         False   False  False     False  False   \n",
       "1              False         False   False  False     False  False   \n",
       "2              False         False   False  False     False  False   \n",
       "3              False         False   False  False     False  False   \n",
       "4              False         False   False  False     False  False   \n",
       "...              ...           ...     ...    ...       ...    ...   \n",
       "586667         False         False   False  False     False  False   \n",
       "586668         False         False   False  False     False  False   \n",
       "586669         False         False   False  False     False  False   \n",
       "586670         False         False   False  False     False  False   \n",
       "586671         False         False   False  False     False  False   \n",
       "\n",
       "        speechiness  acousticness  instrumentalness  liveness  valence  tempo  \\\n",
       "0             False         False             False     False    False  False   \n",
       "1             False         False             False     False    False  False   \n",
       "2             False         False             False     False    False  False   \n",
       "3             False         False             False     False    False  False   \n",
       "4             False         False             False     False    False  False   \n",
       "...             ...           ...               ...       ...      ...    ...   \n",
       "586667        False         False             False     False    False  False   \n",
       "586668        False         False             False     False    False  False   \n",
       "586669        False         False             False     False    False  False   \n",
       "586670        False         False             False     False    False  False   \n",
       "586671        False         False             False     False    False  False   \n",
       "\n",
       "        time_signature  \n",
       "0                False  \n",
       "1                False  \n",
       "2                False  \n",
       "3                False  \n",
       "4                False  \n",
       "...                ...  \n",
       "586667           False  \n",
       "586668           False  \n",
       "586669           False  \n",
       "586670           False  \n",
       "586671           False  \n",
       "\n",
       "[586672 rows x 20 columns]"
      ]
     },
     "execution_count": 17,
     "metadata": {},
     "output_type": "execute_result"
    }
   ],
   "source": [
    "df = pd.read_csv('tracks.csv')\n",
    "\n",
    "df.isnull()"
   ]
  },
  {
   "cell_type": "code",
   "execution_count": 3,
   "metadata": {
    "colab": {},
    "colab_type": "code",
    "id": "MXUkhkMfU4wq"
   },
   "outputs": [
    {
     "data": {
      "text/html": [
       "<div>\n",
       "<style scoped>\n",
       "    .dataframe tbody tr th:only-of-type {\n",
       "        vertical-align: middle;\n",
       "    }\n",
       "\n",
       "    .dataframe tbody tr th {\n",
       "        vertical-align: top;\n",
       "    }\n",
       "\n",
       "    .dataframe thead th {\n",
       "        text-align: right;\n",
       "    }\n",
       "</style>\n",
       "<table border=\"1\" class=\"dataframe\">\n",
       "  <thead>\n",
       "    <tr style=\"text-align: right;\">\n",
       "      <th></th>\n",
       "      <th>id</th>\n",
       "      <th>name</th>\n",
       "      <th>popularity</th>\n",
       "      <th>duration_ms</th>\n",
       "      <th>explicit</th>\n",
       "      <th>artists</th>\n",
       "      <th>id_artists</th>\n",
       "      <th>release_date</th>\n",
       "      <th>danceability</th>\n",
       "      <th>energy</th>\n",
       "      <th>...</th>\n",
       "      <th>loudness</th>\n",
       "      <th>mode</th>\n",
       "      <th>speechiness</th>\n",
       "      <th>acousticness</th>\n",
       "      <th>instrumentalness</th>\n",
       "      <th>liveness</th>\n",
       "      <th>valence</th>\n",
       "      <th>tempo</th>\n",
       "      <th>time_signature</th>\n",
       "      <th>popularity_rating</th>\n",
       "    </tr>\n",
       "  </thead>\n",
       "  <tbody>\n",
       "    <tr>\n",
       "      <th>0</th>\n",
       "      <td>35iwgR4jXetI318WEWsa1Q</td>\n",
       "      <td>Carve</td>\n",
       "      <td>6</td>\n",
       "      <td>126903</td>\n",
       "      <td>0</td>\n",
       "      <td>['Uli']</td>\n",
       "      <td>['45tIt06XoI0Iio4LBEVpls']</td>\n",
       "      <td>1922-02-22</td>\n",
       "      <td>0.645</td>\n",
       "      <td>0.4450</td>\n",
       "      <td>...</td>\n",
       "      <td>-13.338</td>\n",
       "      <td>1</td>\n",
       "      <td>0.4510</td>\n",
       "      <td>0.674</td>\n",
       "      <td>0.7440</td>\n",
       "      <td>0.151</td>\n",
       "      <td>0.127</td>\n",
       "      <td>104.851</td>\n",
       "      <td>3</td>\n",
       "      <td>low</td>\n",
       "    </tr>\n",
       "    <tr>\n",
       "      <th>1</th>\n",
       "      <td>021ht4sdgPcrDgSk7JTbKY</td>\n",
       "      <td>Capítulo 2.16 - Banquero Anarquista</td>\n",
       "      <td>0</td>\n",
       "      <td>98200</td>\n",
       "      <td>0</td>\n",
       "      <td>['Fernando Pessoa']</td>\n",
       "      <td>['14jtPCOoNZwquk5wd9DxrY']</td>\n",
       "      <td>1922-06-01</td>\n",
       "      <td>0.695</td>\n",
       "      <td>0.2630</td>\n",
       "      <td>...</td>\n",
       "      <td>-22.136</td>\n",
       "      <td>1</td>\n",
       "      <td>0.9570</td>\n",
       "      <td>0.797</td>\n",
       "      <td>0.0000</td>\n",
       "      <td>0.148</td>\n",
       "      <td>0.655</td>\n",
       "      <td>102.009</td>\n",
       "      <td>1</td>\n",
       "      <td>low</td>\n",
       "    </tr>\n",
       "    <tr>\n",
       "      <th>2</th>\n",
       "      <td>07A5yehtSnoedViJAZkNnc</td>\n",
       "      <td>Vivo para Quererte - Remasterizado</td>\n",
       "      <td>0</td>\n",
       "      <td>181640</td>\n",
       "      <td>0</td>\n",
       "      <td>['Ignacio Corsini']</td>\n",
       "      <td>['5LiOoJbxVSAMkBS2fUm3X2']</td>\n",
       "      <td>1922-03-21</td>\n",
       "      <td>0.434</td>\n",
       "      <td>0.1770</td>\n",
       "      <td>...</td>\n",
       "      <td>-21.180</td>\n",
       "      <td>1</td>\n",
       "      <td>0.0512</td>\n",
       "      <td>0.994</td>\n",
       "      <td>0.0218</td>\n",
       "      <td>0.212</td>\n",
       "      <td>0.457</td>\n",
       "      <td>130.418</td>\n",
       "      <td>5</td>\n",
       "      <td>low</td>\n",
       "    </tr>\n",
       "    <tr>\n",
       "      <th>3</th>\n",
       "      <td>08FmqUhxtyLTn6pAh6bk45</td>\n",
       "      <td>El Prisionero - Remasterizado</td>\n",
       "      <td>0</td>\n",
       "      <td>176907</td>\n",
       "      <td>0</td>\n",
       "      <td>['Ignacio Corsini']</td>\n",
       "      <td>['5LiOoJbxVSAMkBS2fUm3X2']</td>\n",
       "      <td>1922-03-21</td>\n",
       "      <td>0.321</td>\n",
       "      <td>0.0946</td>\n",
       "      <td>...</td>\n",
       "      <td>-27.961</td>\n",
       "      <td>1</td>\n",
       "      <td>0.0504</td>\n",
       "      <td>0.995</td>\n",
       "      <td>0.9180</td>\n",
       "      <td>0.104</td>\n",
       "      <td>0.397</td>\n",
       "      <td>169.980</td>\n",
       "      <td>3</td>\n",
       "      <td>low</td>\n",
       "    </tr>\n",
       "    <tr>\n",
       "      <th>4</th>\n",
       "      <td>08y9GfoqCWfOGsKdwojr5e</td>\n",
       "      <td>Lady of the Evening</td>\n",
       "      <td>0</td>\n",
       "      <td>163080</td>\n",
       "      <td>0</td>\n",
       "      <td>['Dick Haymes']</td>\n",
       "      <td>['3BiJGZsyX9sJchTqcSA7Su']</td>\n",
       "      <td>1922</td>\n",
       "      <td>0.402</td>\n",
       "      <td>0.1580</td>\n",
       "      <td>...</td>\n",
       "      <td>-16.900</td>\n",
       "      <td>0</td>\n",
       "      <td>0.0390</td>\n",
       "      <td>0.989</td>\n",
       "      <td>0.1300</td>\n",
       "      <td>0.311</td>\n",
       "      <td>0.196</td>\n",
       "      <td>103.220</td>\n",
       "      <td>4</td>\n",
       "      <td>low</td>\n",
       "    </tr>\n",
       "  </tbody>\n",
       "</table>\n",
       "<p>5 rows × 21 columns</p>\n",
       "</div>"
      ],
      "text/plain": [
       "                       id                                 name  popularity  \\\n",
       "0  35iwgR4jXetI318WEWsa1Q                                Carve           6   \n",
       "1  021ht4sdgPcrDgSk7JTbKY  Capítulo 2.16 - Banquero Anarquista           0   \n",
       "2  07A5yehtSnoedViJAZkNnc   Vivo para Quererte - Remasterizado           0   \n",
       "3  08FmqUhxtyLTn6pAh6bk45        El Prisionero - Remasterizado           0   \n",
       "4  08y9GfoqCWfOGsKdwojr5e                  Lady of the Evening           0   \n",
       "\n",
       "   duration_ms  explicit              artists                  id_artists  \\\n",
       "0       126903         0              ['Uli']  ['45tIt06XoI0Iio4LBEVpls']   \n",
       "1        98200         0  ['Fernando Pessoa']  ['14jtPCOoNZwquk5wd9DxrY']   \n",
       "2       181640         0  ['Ignacio Corsini']  ['5LiOoJbxVSAMkBS2fUm3X2']   \n",
       "3       176907         0  ['Ignacio Corsini']  ['5LiOoJbxVSAMkBS2fUm3X2']   \n",
       "4       163080         0      ['Dick Haymes']  ['3BiJGZsyX9sJchTqcSA7Su']   \n",
       "\n",
       "  release_date  danceability  energy  ...  loudness  mode  speechiness  \\\n",
       "0   1922-02-22         0.645  0.4450  ...   -13.338     1       0.4510   \n",
       "1   1922-06-01         0.695  0.2630  ...   -22.136     1       0.9570   \n",
       "2   1922-03-21         0.434  0.1770  ...   -21.180     1       0.0512   \n",
       "3   1922-03-21         0.321  0.0946  ...   -27.961     1       0.0504   \n",
       "4         1922         0.402  0.1580  ...   -16.900     0       0.0390   \n",
       "\n",
       "   acousticness  instrumentalness  liveness  valence    tempo  time_signature  \\\n",
       "0         0.674            0.7440     0.151    0.127  104.851               3   \n",
       "1         0.797            0.0000     0.148    0.655  102.009               1   \n",
       "2         0.994            0.0218     0.212    0.457  130.418               5   \n",
       "3         0.995            0.9180     0.104    0.397  169.980               3   \n",
       "4         0.989            0.1300     0.311    0.196  103.220               4   \n",
       "\n",
       "   popularity_rating  \n",
       "0                low  \n",
       "1                low  \n",
       "2                low  \n",
       "3                low  \n",
       "4                low  \n",
       "\n",
       "[5 rows x 21 columns]"
      ]
     },
     "execution_count": 3,
     "metadata": {},
     "output_type": "execute_result"
    }
   ],
   "source": [
    "df = pd.read_csv('tracks.csv')\n",
    "#binning of the popularity group\n",
    "df.fillna({'popularity' :0}, inplace=True)\n",
    "#define bin size\n",
    "bins = [0, 25, 50, 75, 100]\n",
    "\n",
    "#names for groups\n",
    "group_names = ['low', 'average', 'popular', 'very_popular']\n",
    "\n",
    "#binning\n",
    "df['popularity_rating'] = pd.cut(df['popularity'], bins, labels=group_names, include_lowest=True)\n",
    "#scale_mapper = {\"low\":1, \"average\":2, \"popular\":3, \"very_popular\":4}\n",
    "#df[\"popularity_rating_target\"] = df[\"popularity_rating\"].replace(scale_mapper)\n",
    "\n",
    "#dataset = dataset.drop(dataset.columns[[0, 1, 5, 6, 7]], axis=1, inplace=True)\n",
    "#dataset = df[df.columns.difference(['id', 'name', 'artists', 'id_artists', 'release_date'])]\n",
    "\n",
    "df.head()\n",
    "\n"
   ]
  },
  {
   "cell_type": "markdown",
   "metadata": {
    "colab_type": "text",
    "id": "vHol938cW8zd"
   },
   "source": [
    "### Splitting the dataset into the Training set and Test set"
   ]
  },
  {
   "cell_type": "code",
   "execution_count": 4,
   "metadata": {},
   "outputs": [],
   "source": [
    "from sklearn.model_selection import train_test_split\n",
    "X_train, X_test, y_train, y_test = train_test_split(df.drop(['id', 'name', 'artists', 'id_artists', \n",
    "                                                            'release_date',\n",
    "                                                            'popularity', 'popularity_rating'], \n",
    "                                                            axis=1), df['popularity_rating'],\n",
    "    test_size = 0.2, random_state = 0)"
   ]
  },
  {
   "cell_type": "markdown",
   "metadata": {},
   "source": [
    "# Encoding the target variable"
   ]
  },
  {
   "cell_type": "code",
   "execution_count": 5,
   "metadata": {},
   "outputs": [],
   "source": [
    "# Both targets are now categorical but with multiple classes, so now we need to do one hot encoding,\n",
    "# to create a feature vector. FOr example, class 1= [1,0,0,0]\n",
    "\n",
    "# Encoding for training dataset\n",
    "le = LabelEncoder()\n",
    "le.fit(y_train)\n",
    "y_train = le.transform(y_train)\n",
    "\n",
    "y_train = np.asarray(y_train)\n",
    "y_train = y_train.reshape(-1,1)\n",
    "encoder = OneHotEncoder(sparse=False)\n",
    "\n",
    "y_train = encoder.fit_transform(y_train)\n",
    "\n",
    "# Encoding for testing dataset\n",
    "le = LabelEncoder()\n",
    "le.fit(y_test)\n",
    "y_test = le.transform(y_test)\n",
    "\n",
    "y_test = np.asarray(y_test)\n",
    "y_test = y_test.reshape(-1,1)\n",
    "encoder = OneHotEncoder(sparse=False)\n",
    "\n",
    "y_test = encoder.fit_transform(y_test)\n"
   ]
  },
  {
   "cell_type": "markdown",
   "metadata": {
    "colab_type": "text",
    "id": "RE_FcHyfV3TQ"
   },
   "source": [
    "### Feature Scaling"
   ]
  },
  {
   "cell_type": "code",
   "execution_count": 6,
   "metadata": {
    "colab": {},
    "colab_type": "code",
    "id": "ViCrE00rV8Sk"
   },
   "outputs": [],
   "source": [
    "#normalizing the features\n",
    "from sklearn.preprocessing import StandardScaler\n",
    "sc = StandardScaler()\n",
    "X_train = sc.fit_transform(X_train)\n",
    "X_test = sc.transform(X_test)"
   ]
  },
  {
   "cell_type": "markdown",
   "metadata": {
    "colab_type": "text",
    "id": "-zfEzkRVXIwF"
   },
   "source": [
    "## Part 2 - Building the ANN"
   ]
  },
  {
   "cell_type": "markdown",
   "metadata": {
    "colab_type": "text",
    "id": "KvdeScabXtlB"
   },
   "source": [
    "### Initializing the ANN"
   ]
  },
  {
   "cell_type": "code",
   "execution_count": 7,
   "metadata": {
    "colab": {},
    "colab_type": "code",
    "id": "3dtrScHxXQox"
   },
   "outputs": [
    {
     "name": "stdout",
     "output_type": "stream",
     "text": [
      "Metal device set to: Apple M1\n"
     ]
    },
    {
     "name": "stderr",
     "output_type": "stream",
     "text": [
      "2022-01-02 22:49:20.935574: I tensorflow/core/common_runtime/pluggable_device/pluggable_device_factory.cc:305] Could not identify NUMA node of platform GPU ID 0, defaulting to 0. Your kernel may not have been built with NUMA support.\n",
      "2022-01-02 22:49:20.936237: I tensorflow/core/common_runtime/pluggable_device/pluggable_device_factory.cc:271] Created TensorFlow device (/job:localhost/replica:0/task:0/device:GPU:0 with 0 MB memory) -> physical PluggableDevice (device: 0, name: METAL, pci bus id: <undefined>)\n"
     ]
    }
   ],
   "source": [
    "ann = tf.keras.models.Sequential()"
   ]
  },
  {
   "cell_type": "markdown",
   "metadata": {
    "colab_type": "text",
    "id": "rP6urV6SX7kS"
   },
   "source": [
    "### Adding the input layer and the first hidden layer"
   ]
  },
  {
   "cell_type": "code",
   "execution_count": 8,
   "metadata": {
    "colab": {},
    "colab_type": "code",
    "id": "bppGycBXYCQr"
   },
   "outputs": [],
   "source": [
    "ann.add(tf.keras.layers.Dense(64, input_dim=14, activation='relu')) #must use REctifier act. func (RELU)"
   ]
  },
  {
   "cell_type": "markdown",
   "metadata": {
    "colab_type": "text",
    "id": "BELWAc_8YJze"
   },
   "source": [
    "### Adding the second hidden layer"
   ]
  },
  {
   "cell_type": "code",
   "execution_count": 9,
   "metadata": {
    "colab": {},
    "colab_type": "code",
    "id": "JneR0u0sYRTd"
   },
   "outputs": [],
   "source": [
    "ann.add(tf.keras.layers.Dense(units=32, activation='relu'))"
   ]
  },
  {
   "cell_type": "markdown",
   "metadata": {
    "colab_type": "text",
    "id": "OyNEe6RXYcU4"
   },
   "source": [
    "### Adding the output layer"
   ]
  },
  {
   "cell_type": "code",
   "execution_count": 10,
   "metadata": {
    "colab": {},
    "colab_type": "code",
    "id": "Cn3x41RBYfvY"
   },
   "outputs": [],
   "source": [
    "ann.add(tf.keras.layers.Dense(units=4, activation='softmax'))"
   ]
  },
  {
   "cell_type": "markdown",
   "metadata": {
    "colab_type": "text",
    "id": "JT4u2S1_Y4WG"
   },
   "source": [
    "## Part 3 - Training the ANN"
   ]
  },
  {
   "cell_type": "markdown",
   "metadata": {
    "colab_type": "text",
    "id": "8GWlJChhY_ZI"
   },
   "source": [
    "### Compiling the ANN"
   ]
  },
  {
   "cell_type": "code",
   "execution_count": 11,
   "metadata": {
    "colab": {},
    "colab_type": "code",
    "id": "fG3RrwDXZEaS"
   },
   "outputs": [
    {
     "name": "stdout",
     "output_type": "stream",
     "text": [
      "Model: \"sequential\"\n",
      "_________________________________________________________________\n",
      " Layer (type)                Output Shape              Param #   \n",
      "=================================================================\n",
      " dense (Dense)               (None, 64)                960       \n",
      "                                                                 \n",
      " dense_1 (Dense)             (None, 32)                2080      \n",
      "                                                                 \n",
      " dense_2 (Dense)             (None, 4)                 132       \n",
      "                                                                 \n",
      "=================================================================\n",
      "Total params: 3,172\n",
      "Trainable params: 3,172\n",
      "Non-trainable params: 0\n",
      "_________________________________________________________________\n"
     ]
    }
   ],
   "source": [
    "ann.compile(optimizer = 'adam', loss = 'categorical_crossentropy', metrics = ['accuracy'])\n",
    "ann.summary()"
   ]
  },
  {
   "cell_type": "markdown",
   "metadata": {
    "colab_type": "text",
    "id": "0QR_G5u7ZLSM"
   },
   "source": [
    "### Training the ANN on the Training set"
   ]
  },
  {
   "cell_type": "code",
   "execution_count": 12,
   "metadata": {
    "colab": {
     "base_uri": "https://localhost:8080/",
     "height": 1000
    },
    "colab_type": "code",
    "id": "nHZ-LKv_ZRb3",
    "outputId": "718cc4b0-b5aa-40f0-9b20-d3d31730a531",
    "scrolled": true
   },
   "outputs": [
    {
     "name": "stderr",
     "output_type": "stream",
     "text": [
      "2022-01-02 22:49:21.072749: W tensorflow/core/platform/profile_utils/cpu_utils.cc:128] Failed to get CPU frequency: 0 Hz\n"
     ]
    },
    {
     "name": "stdout",
     "output_type": "stream",
     "text": [
      "Epoch 1/100\n"
     ]
    },
    {
     "name": "stderr",
     "output_type": "stream",
     "text": [
      "2022-01-02 22:49:21.206759: I tensorflow/core/grappler/optimizers/custom_graph_optimizer_registry.cc:112] Plugin optimizer for device_type GPU is enabled.\n"
     ]
    },
    {
     "name": "stdout",
     "output_type": "stream",
     "text": [
      "11730/11734 [============================>.] - ETA: 0s - loss: 0.8531 - accuracy: 0.6003"
     ]
    },
    {
     "name": "stderr",
     "output_type": "stream",
     "text": [
      "2022-01-02 22:50:30.182353: I tensorflow/core/grappler/optimizers/custom_graph_optimizer_registry.cc:112] Plugin optimizer for device_type GPU is enabled.\n"
     ]
    },
    {
     "name": "stdout",
     "output_type": "stream",
     "text": [
      "11734/11734 [==============================] - 81s 7ms/step - loss: 0.8531 - accuracy: 0.6003 - val_loss: 0.8391 - val_accuracy: 0.6074\n",
      "Epoch 2/100\n",
      "11734/11734 [==============================] - 83s 7ms/step - loss: 0.8368 - accuracy: 0.6081 - val_loss: 0.8334 - val_accuracy: 0.6082\n",
      "Epoch 3/100\n",
      "11734/11734 [==============================] - 84s 7ms/step - loss: 0.8324 - accuracy: 0.6102 - val_loss: 0.8313 - val_accuracy: 0.6098\n",
      "Epoch 4/100\n",
      "11734/11734 [==============================] - 81s 7ms/step - loss: 0.8298 - accuracy: 0.6105 - val_loss: 0.8292 - val_accuracy: 0.6099\n",
      "Epoch 5/100\n",
      "11734/11734 [==============================] - 78s 7ms/step - loss: 0.8282 - accuracy: 0.6112 - val_loss: 0.8290 - val_accuracy: 0.6099\n",
      "Epoch 6/100\n",
      "11734/11734 [==============================] - 82s 7ms/step - loss: 0.8268 - accuracy: 0.6120 - val_loss: 0.8275 - val_accuracy: 0.6111\n",
      "Epoch 7/100\n",
      "11734/11734 [==============================] - 78s 7ms/step - loss: 0.8258 - accuracy: 0.6126 - val_loss: 0.8289 - val_accuracy: 0.6097\n",
      "Epoch 8/100\n",
      "11734/11734 [==============================] - 76s 7ms/step - loss: 0.8253 - accuracy: 0.6129 - val_loss: 0.8317 - val_accuracy: 0.6099\n",
      "Epoch 9/100\n",
      "11734/11734 [==============================] - 77s 7ms/step - loss: 0.8246 - accuracy: 0.6131 - val_loss: 0.8265 - val_accuracy: 0.6111\n",
      "Epoch 10/100\n",
      "11734/11734 [==============================] - 81s 7ms/step - loss: 0.8241 - accuracy: 0.6136 - val_loss: 0.8271 - val_accuracy: 0.6114\n",
      "Epoch 11/100\n",
      "11734/11734 [==============================] - 84s 7ms/step - loss: 0.8234 - accuracy: 0.6136 - val_loss: 0.8270 - val_accuracy: 0.6116\n",
      "Epoch 12/100\n",
      "11734/11734 [==============================] - 87s 7ms/step - loss: 0.8229 - accuracy: 0.6141 - val_loss: 0.8271 - val_accuracy: 0.6116\n",
      "Epoch 13/100\n",
      "11734/11734 [==============================] - 82s 7ms/step - loss: 0.8224 - accuracy: 0.6144 - val_loss: 0.8259 - val_accuracy: 0.6132\n",
      "Epoch 14/100\n",
      "11734/11734 [==============================] - 79s 7ms/step - loss: 0.8220 - accuracy: 0.6148 - val_loss: 0.8245 - val_accuracy: 0.6146\n",
      "Epoch 15/100\n",
      "11734/11734 [==============================] - 81s 7ms/step - loss: 0.8215 - accuracy: 0.6149 - val_loss: 0.8250 - val_accuracy: 0.6133\n",
      "Epoch 16/100\n",
      "11734/11734 [==============================] - 83s 7ms/step - loss: 0.8215 - accuracy: 0.6144 - val_loss: 0.8252 - val_accuracy: 0.6139\n",
      "Epoch 17/100\n",
      "11734/11734 [==============================] - 76s 7ms/step - loss: 0.8210 - accuracy: 0.6147 - val_loss: 0.8244 - val_accuracy: 0.6135\n",
      "Epoch 18/100\n",
      "11734/11734 [==============================] - 76s 7ms/step - loss: 0.8207 - accuracy: 0.6154 - val_loss: 0.8242 - val_accuracy: 0.6129\n",
      "Epoch 19/100\n",
      "11734/11734 [==============================] - 79s 7ms/step - loss: 0.8203 - accuracy: 0.6154 - val_loss: 0.8262 - val_accuracy: 0.6110\n",
      "Epoch 20/100\n",
      "11734/11734 [==============================] - 85s 7ms/step - loss: 0.8201 - accuracy: 0.6153 - val_loss: 0.8254 - val_accuracy: 0.6122\n",
      "Epoch 21/100\n",
      "11734/11734 [==============================] - 82s 7ms/step - loss: 0.8199 - accuracy: 0.6148 - val_loss: 0.8247 - val_accuracy: 0.6136\n",
      "Epoch 22/100\n",
      "11734/11734 [==============================] - 84s 7ms/step - loss: 0.8197 - accuracy: 0.6155 - val_loss: 0.8251 - val_accuracy: 0.6133\n",
      "Epoch 23/100\n",
      "11734/11734 [==============================] - 82s 7ms/step - loss: 0.8197 - accuracy: 0.6156 - val_loss: 0.8230 - val_accuracy: 0.6136\n",
      "Epoch 24/100\n",
      "11734/11734 [==============================] - 89s 8ms/step - loss: 0.8191 - accuracy: 0.6161 - val_loss: 0.8246 - val_accuracy: 0.6131\n",
      "Epoch 25/100\n",
      "11734/11734 [==============================] - 89s 8ms/step - loss: 0.8190 - accuracy: 0.6163 - val_loss: 0.8248 - val_accuracy: 0.6136\n",
      "Epoch 26/100\n",
      "11734/11734 [==============================] - 82s 7ms/step - loss: 0.8187 - accuracy: 0.6159 - val_loss: 0.8236 - val_accuracy: 0.6140\n",
      "Epoch 27/100\n",
      "11734/11734 [==============================] - 81s 7ms/step - loss: 0.8185 - accuracy: 0.6159 - val_loss: 0.8250 - val_accuracy: 0.6134\n",
      "Epoch 28/100\n",
      "11734/11734 [==============================] - 84s 7ms/step - loss: 0.8185 - accuracy: 0.6164 - val_loss: 0.8231 - val_accuracy: 0.6142\n",
      "Epoch 29/100\n",
      "11734/11734 [==============================] - 84s 7ms/step - loss: 0.8184 - accuracy: 0.6167 - val_loss: 0.8237 - val_accuracy: 0.6142\n",
      "Epoch 30/100\n",
      "11734/11734 [==============================] - 83s 7ms/step - loss: 0.8181 - accuracy: 0.6164 - val_loss: 0.8237 - val_accuracy: 0.6136\n",
      "Epoch 31/100\n",
      "11734/11734 [==============================] - 86s 7ms/step - loss: 0.8179 - accuracy: 0.6164 - val_loss: 0.8238 - val_accuracy: 0.6136\n",
      "Epoch 32/100\n",
      "11734/11734 [==============================] - 81s 7ms/step - loss: 0.8180 - accuracy: 0.6166 - val_loss: 0.8251 - val_accuracy: 0.6131\n",
      "Epoch 33/100\n",
      "11734/11734 [==============================] - 85s 7ms/step - loss: 0.8179 - accuracy: 0.6165 - val_loss: 0.8242 - val_accuracy: 0.6143\n",
      "Epoch 34/100\n",
      "11734/11734 [==============================] - 85s 7ms/step - loss: 0.8176 - accuracy: 0.6167 - val_loss: 0.8243 - val_accuracy: 0.6141\n",
      "Epoch 35/100\n",
      "11734/11734 [==============================] - 85s 7ms/step - loss: 0.8174 - accuracy: 0.6169 - val_loss: 0.8236 - val_accuracy: 0.6126\n",
      "Epoch 36/100\n",
      "11734/11734 [==============================] - 85s 7ms/step - loss: 0.8175 - accuracy: 0.6170 - val_loss: 0.8236 - val_accuracy: 0.6147\n",
      "Epoch 37/100\n",
      "11734/11734 [==============================] - 86s 7ms/step - loss: 0.8173 - accuracy: 0.6172 - val_loss: 0.8245 - val_accuracy: 0.6145\n",
      "Epoch 38/100\n",
      "11734/11734 [==============================] - 85s 7ms/step - loss: 0.8172 - accuracy: 0.6172 - val_loss: 0.8233 - val_accuracy: 0.6135\n",
      "Epoch 39/100\n",
      "11734/11734 [==============================] - 84s 7ms/step - loss: 0.8171 - accuracy: 0.6165 - val_loss: 0.8230 - val_accuracy: 0.6141\n",
      "Epoch 40/100\n",
      "11734/11734 [==============================] - 84s 7ms/step - loss: 0.8168 - accuracy: 0.6175 - val_loss: 0.8243 - val_accuracy: 0.6148\n",
      "Epoch 41/100\n",
      "11734/11734 [==============================] - 81s 7ms/step - loss: 0.8169 - accuracy: 0.6167 - val_loss: 0.8242 - val_accuracy: 0.6140\n",
      "Epoch 42/100\n",
      "11734/11734 [==============================] - 80s 7ms/step - loss: 0.8167 - accuracy: 0.6175 - val_loss: 0.8228 - val_accuracy: 0.6139\n",
      "Epoch 43/100\n",
      "11734/11734 [==============================] - 81s 7ms/step - loss: 0.8167 - accuracy: 0.6170 - val_loss: 0.8233 - val_accuracy: 0.6128\n",
      "Epoch 44/100\n",
      "11734/11734 [==============================] - 80s 7ms/step - loss: 0.8166 - accuracy: 0.6176 - val_loss: 0.8235 - val_accuracy: 0.6146\n",
      "Epoch 45/100\n",
      "11734/11734 [==============================] - 81s 7ms/step - loss: 0.8163 - accuracy: 0.6174 - val_loss: 0.8227 - val_accuracy: 0.6147\n",
      "Epoch 46/100\n",
      "11734/11734 [==============================] - 84s 7ms/step - loss: 0.8164 - accuracy: 0.6172 - val_loss: 0.8218 - val_accuracy: 0.6158\n",
      "Epoch 47/100\n",
      "11734/11734 [==============================] - 88s 7ms/step - loss: 0.8163 - accuracy: 0.6177 - val_loss: 0.8235 - val_accuracy: 0.6151\n",
      "Epoch 48/100\n",
      "11734/11734 [==============================] - 87s 7ms/step - loss: 0.8163 - accuracy: 0.6176 - val_loss: 0.8224 - val_accuracy: 0.6154\n",
      "Epoch 49/100\n",
      "11734/11734 [==============================] - 82s 7ms/step - loss: 0.8162 - accuracy: 0.6181 - val_loss: 0.8254 - val_accuracy: 0.6140\n",
      "Epoch 50/100\n",
      "11734/11734 [==============================] - 88s 8ms/step - loss: 0.8160 - accuracy: 0.6177 - val_loss: 0.8221 - val_accuracy: 0.6149\n",
      "Epoch 51/100\n",
      "11734/11734 [==============================] - 84s 7ms/step - loss: 0.8161 - accuracy: 0.6177 - val_loss: 0.8243 - val_accuracy: 0.6126\n",
      "Epoch 52/100\n",
      "11734/11734 [==============================] - 83s 7ms/step - loss: 0.8158 - accuracy: 0.6181 - val_loss: 0.8236 - val_accuracy: 0.6153\n",
      "Epoch 53/100\n",
      "11734/11734 [==============================] - 88s 7ms/step - loss: 0.8159 - accuracy: 0.6176 - val_loss: 0.8246 - val_accuracy: 0.6130\n",
      "Epoch 54/100\n",
      "11734/11734 [==============================] - 88s 7ms/step - loss: 0.8158 - accuracy: 0.6181 - val_loss: 0.8235 - val_accuracy: 0.6137\n",
      "Epoch 55/100\n",
      "11734/11734 [==============================] - 89s 8ms/step - loss: 0.8158 - accuracy: 0.6177 - val_loss: 0.8239 - val_accuracy: 0.6136\n",
      "Epoch 56/100\n"
     ]
    },
    {
     "name": "stdout",
     "output_type": "stream",
     "text": [
      "11734/11734 [==============================] - 84s 7ms/step - loss: 0.8156 - accuracy: 0.6178 - val_loss: 0.8234 - val_accuracy: 0.6131\n",
      "Epoch 57/100\n",
      "11734/11734 [==============================] - 81s 7ms/step - loss: 0.8156 - accuracy: 0.6175 - val_loss: 0.8228 - val_accuracy: 0.6147\n",
      "Epoch 58/100\n",
      "11734/11734 [==============================] - 84s 7ms/step - loss: 0.8156 - accuracy: 0.6179 - val_loss: 0.8246 - val_accuracy: 0.6147\n",
      "Epoch 59/100\n",
      "11734/11734 [==============================] - 81s 7ms/step - loss: 0.8158 - accuracy: 0.6180 - val_loss: 0.8249 - val_accuracy: 0.6139\n",
      "Epoch 60/100\n",
      "11734/11734 [==============================] - 83s 7ms/step - loss: 0.8156 - accuracy: 0.6178 - val_loss: 0.8257 - val_accuracy: 0.6130\n",
      "Epoch 61/100\n",
      "11734/11734 [==============================] - 83s 7ms/step - loss: 0.8154 - accuracy: 0.6181 - val_loss: 0.8238 - val_accuracy: 0.6148\n",
      "Epoch 62/100\n",
      "11734/11734 [==============================] - 82s 7ms/step - loss: 0.8155 - accuracy: 0.6178 - val_loss: 0.8237 - val_accuracy: 0.6141\n",
      "Epoch 63/100\n",
      "11734/11734 [==============================] - 79s 7ms/step - loss: 0.8154 - accuracy: 0.6182 - val_loss: 0.8231 - val_accuracy: 0.6142\n",
      "Epoch 64/100\n",
      "11734/11734 [==============================] - 78s 7ms/step - loss: 0.8153 - accuracy: 0.6175 - val_loss: 0.8239 - val_accuracy: 0.6156\n",
      "Epoch 65/100\n",
      "11734/11734 [==============================] - 84s 7ms/step - loss: 0.8152 - accuracy: 0.6181 - val_loss: 0.8240 - val_accuracy: 0.6141\n",
      "Epoch 66/100\n",
      "11734/11734 [==============================] - 81s 7ms/step - loss: 0.8153 - accuracy: 0.6182 - val_loss: 0.8236 - val_accuracy: 0.6134\n",
      "Epoch 67/100\n",
      "11734/11734 [==============================] - 83s 7ms/step - loss: 0.8152 - accuracy: 0.6176 - val_loss: 0.8225 - val_accuracy: 0.6146\n",
      "Epoch 68/100\n",
      "11734/11734 [==============================] - 80s 7ms/step - loss: 0.8152 - accuracy: 0.6181 - val_loss: 0.8239 - val_accuracy: 0.6134\n",
      "Epoch 69/100\n",
      "11734/11734 [==============================] - 80s 7ms/step - loss: 0.8149 - accuracy: 0.6183 - val_loss: 0.8240 - val_accuracy: 0.6146\n",
      "Epoch 70/100\n",
      "11734/11734 [==============================] - 84s 7ms/step - loss: 0.8149 - accuracy: 0.6186 - val_loss: 0.8230 - val_accuracy: 0.6142\n",
      "Epoch 71/100\n",
      "11734/11734 [==============================] - 82s 7ms/step - loss: 0.8149 - accuracy: 0.6180 - val_loss: 0.8252 - val_accuracy: 0.6136\n",
      "Epoch 72/100\n",
      "11734/11734 [==============================] - 85s 7ms/step - loss: 0.8150 - accuracy: 0.6182 - val_loss: 0.8239 - val_accuracy: 0.6146\n",
      "Epoch 73/100\n",
      "11734/11734 [==============================] - 85s 7ms/step - loss: 0.8150 - accuracy: 0.6179 - val_loss: 0.8249 - val_accuracy: 0.6139\n",
      "Epoch 74/100\n",
      "11734/11734 [==============================] - 86s 7ms/step - loss: 0.8150 - accuracy: 0.6184 - val_loss: 0.8271 - val_accuracy: 0.6130\n",
      "Epoch 75/100\n",
      "11734/11734 [==============================] - 86s 7ms/step - loss: 0.8150 - accuracy: 0.6183 - val_loss: 0.8249 - val_accuracy: 0.6150\n",
      "Epoch 76/100\n",
      "11734/11734 [==============================] - 81s 7ms/step - loss: 0.8149 - accuracy: 0.6183 - val_loss: 0.8239 - val_accuracy: 0.6136\n",
      "Epoch 77/100\n",
      "11734/11734 [==============================] - 79s 7ms/step - loss: 0.8148 - accuracy: 0.6183 - val_loss: 0.8234 - val_accuracy: 0.6132\n",
      "Epoch 78/100\n",
      "11734/11734 [==============================] - 79s 7ms/step - loss: 0.8148 - accuracy: 0.6183 - val_loss: 0.8232 - val_accuracy: 0.6142\n",
      "Epoch 79/100\n",
      "11734/11734 [==============================] - 79s 7ms/step - loss: 0.8150 - accuracy: 0.6185 - val_loss: 0.8249 - val_accuracy: 0.6137\n",
      "Epoch 80/100\n",
      "11734/11734 [==============================] - 78s 7ms/step - loss: 0.8147 - accuracy: 0.6182 - val_loss: 0.8241 - val_accuracy: 0.6129\n",
      "Epoch 81/100\n",
      "11734/11734 [==============================] - 79s 7ms/step - loss: 0.8146 - accuracy: 0.6188 - val_loss: 0.8239 - val_accuracy: 0.6133\n",
      "Epoch 82/100\n",
      "11734/11734 [==============================] - 81s 7ms/step - loss: 0.8147 - accuracy: 0.6179 - val_loss: 0.8241 - val_accuracy: 0.6140\n",
      "Epoch 83/100\n",
      "11734/11734 [==============================] - 83s 7ms/step - loss: 0.8146 - accuracy: 0.6183 - val_loss: 0.8244 - val_accuracy: 0.6140\n",
      "Epoch 84/100\n",
      "11734/11734 [==============================] - 87s 7ms/step - loss: 0.8145 - accuracy: 0.6182 - val_loss: 0.8227 - val_accuracy: 0.6145\n",
      "Epoch 85/100\n",
      "11734/11734 [==============================] - 84s 7ms/step - loss: 0.8146 - accuracy: 0.6179 - val_loss: 0.8238 - val_accuracy: 0.6141\n",
      "Epoch 86/100\n",
      "11734/11734 [==============================] - 81s 7ms/step - loss: 0.8147 - accuracy: 0.6183 - val_loss: 0.8232 - val_accuracy: 0.6146\n",
      "Epoch 87/100\n",
      "11734/11734 [==============================] - 83s 7ms/step - loss: 0.8144 - accuracy: 0.6184 - val_loss: 0.8232 - val_accuracy: 0.6138\n",
      "Epoch 88/100\n",
      "11734/11734 [==============================] - 82s 7ms/step - loss: 0.8144 - accuracy: 0.6184 - val_loss: 0.8238 - val_accuracy: 0.6141\n",
      "Epoch 89/100\n",
      "11734/11734 [==============================] - 82s 7ms/step - loss: 0.8143 - accuracy: 0.6182 - val_loss: 0.8239 - val_accuracy: 0.6133\n",
      "Epoch 90/100\n",
      "11734/11734 [==============================] - 82s 7ms/step - loss: 0.8145 - accuracy: 0.6181 - val_loss: 0.8239 - val_accuracy: 0.6155\n",
      "Epoch 91/100\n",
      "11734/11734 [==============================] - 82s 7ms/step - loss: 0.8145 - accuracy: 0.6182 - val_loss: 0.8276 - val_accuracy: 0.6109\n",
      "Epoch 92/100\n",
      "11734/11734 [==============================] - 82s 7ms/step - loss: 0.8144 - accuracy: 0.6184 - val_loss: 0.8229 - val_accuracy: 0.6148\n",
      "Epoch 93/100\n",
      "11734/11734 [==============================] - 82s 7ms/step - loss: 0.8145 - accuracy: 0.6182 - val_loss: 0.8235 - val_accuracy: 0.6146\n",
      "Epoch 94/100\n",
      "11734/11734 [==============================] - 82s 7ms/step - loss: 0.8143 - accuracy: 0.6183 - val_loss: 0.8232 - val_accuracy: 0.6154\n",
      "Epoch 95/100\n",
      "11734/11734 [==============================] - 81s 7ms/step - loss: 0.8143 - accuracy: 0.6189 - val_loss: 0.8250 - val_accuracy: 0.6136\n",
      "Epoch 96/100\n",
      "11734/11734 [==============================] - 82s 7ms/step - loss: 0.8143 - accuracy: 0.6182 - val_loss: 0.8238 - val_accuracy: 0.6149\n",
      "Epoch 97/100\n",
      "11734/11734 [==============================] - 81s 7ms/step - loss: 0.8141 - accuracy: 0.6186 - val_loss: 0.8246 - val_accuracy: 0.6135\n",
      "Epoch 98/100\n",
      "11734/11734 [==============================] - 81s 7ms/step - loss: 0.8143 - accuracy: 0.6184 - val_loss: 0.8241 - val_accuracy: 0.6152\n",
      "Epoch 99/100\n",
      "11734/11734 [==============================] - 80s 7ms/step - loss: 0.8143 - accuracy: 0.6186 - val_loss: 0.8261 - val_accuracy: 0.6124\n",
      "Epoch 100/100\n",
      "11734/11734 [==============================] - 79s 7ms/step - loss: 0.8142 - accuracy: 0.6188 - val_loss: 0.8248 - val_accuracy: 0.6138\n"
     ]
    }
   ],
   "source": [
    "history = ann.fit(X_train, y_train, validation_split=0.2, epochs = 100)"
   ]
  },
  {
   "cell_type": "code",
   "execution_count": 13,
   "metadata": {
    "scrolled": true
   },
   "outputs": [
    {
     "data": {
      "image/png": "[encoded data removed]",
      "text/plain": [
       "<Figure size 432x288 with 1 Axes>"
      ]
     },
     "metadata": {
      "needs_background": "light"
     },
     "output_type": "display_data"
    },
    {
     "data": {
      "image/png": "[encoded data removed]",
      "text/plain": [
       "<Figure size 432x288 with 1 Axes>"
      ]
     },
     "metadata": {
      "needs_background": "light"
     },
     "output_type": "display_data"
    }
   ],
   "source": [
    "from matplotlib import pyplot as plt\n",
    "#plot training and validation accuracy and loss at each epoch\n",
    "loss = history.history['loss']\n",
    "val_loss = history.history['val_loss']\n",
    "epochs = range(1, len(loss) + 1)\n",
    "plt.plot(epochs, loss, 'y', label='Training loss')\n",
    "plt.plot(epochs, val_loss, 'r', label='Validation loss')\n",
    "plt.title('Training and validation loss')\n",
    "plt.xlabel('Epochs')\n",
    "plt.ylabel('loss')\n",
    "plt.legend()\n",
    "plt.show()\n",
    "\n",
    "acc = history.history['accuracy']\n",
    "val_acc = history.history['val_accuracy']\n",
    "plt.plot(epochs, acc, 'y', label='Training accuracy')\n",
    "plt.plot(epochs, val_acc, 'r', label='Validation accuracy')\n",
    "plt.title('Training and validation accuracy')\n",
    "plt.xlabel('Epochs')\n",
    "plt.ylabel('Accuracy')\n",
    "plt.legend()\n",
    "plt.show()"
   ]
  },
  {
   "cell_type": "code",
   "execution_count": 14,
   "metadata": {},
   "outputs": [
    {
     "name": "stdout",
     "output_type": "stream",
     "text": [
      "Predicted values are:  [[4.27082300e-01 1.82763159e-01 3.75546366e-01 1.46081559e-02]\n",
      " [4.01465803e-01 1.52052656e-01 4.23730761e-01 2.27508433e-02]\n",
      " [2.77085572e-01 6.68451548e-01 5.34911789e-02 9.71800997e-04]\n",
      " [3.92420262e-01 5.43005884e-01 6.33843541e-02 1.18950300e-03]\n",
      " [3.29255521e-01 6.02731049e-01 6.75578862e-02 4.55588597e-04]\n",
      " [6.68970227e-01 1.99464813e-01 1.30183101e-01 1.38187828e-03]\n",
      " [3.39250684e-01 6.00200653e-01 5.96584417e-02 8.90221214e-04]\n",
      " [2.75027156e-01 7.06291080e-01 1.85577534e-02 1.23957943e-04]\n",
      " [3.80793005e-01 5.82690537e-01 3.62505689e-02 2.65883951e-04]\n",
      " [5.28574705e-01 2.36294404e-01 2.25050062e-01 1.00808730e-02]\n",
      " [5.56759477e-01 2.65731215e-01 1.73055753e-01 4.45358688e-03]\n",
      " [3.01715046e-01 6.27889931e-01 6.82426021e-02 2.15248996e-03]\n",
      " [5.16162038e-01 3.95795047e-01 8.70134458e-02 1.02955254e-03]\n",
      " [5.63435137e-01 3.45367193e-01 9.03511196e-02 8.46640847e-04]\n",
      " [2.79942900e-01 6.60745084e-01 5.76385446e-02 1.67351018e-03]\n",
      " [5.82584560e-01 3.77927780e-01 3.94818112e-02 5.90670561e-06]\n",
      " [5.79093575e-01 3.12151223e-01 1.08710751e-01 4.45425794e-05]\n",
      " [5.10797739e-01 3.28659534e-01 1.56010926e-01 4.53180587e-03]\n",
      " [4.31471318e-01 4.94804740e-01 7.23710135e-02 1.35287258e-03]\n",
      " [5.03071427e-01 3.88486892e-01 1.06335215e-01 2.10654060e-03]\n",
      " [4.93930757e-01 3.84983540e-01 1.18294209e-01 2.79145921e-03]\n",
      " [3.65431875e-01 5.49622238e-01 8.32866207e-02 1.65925990e-03]\n",
      " [4.52833265e-01 4.99530345e-01 4.72066216e-02 4.29785636e-04]\n",
      " [4.33003843e-01 6.88082129e-02 4.74000037e-01 2.41879877e-02]\n",
      " [9.56725180e-02 8.97470832e-01 6.85667386e-03 1.10339489e-08]\n",
      " [3.88826758e-01 5.10095835e-01 9.72369760e-02 3.84051981e-03]\n",
      " [3.92690092e-01 5.33291698e-01 7.26928711e-02 1.32528506e-03]\n",
      " [3.72822702e-01 1.04734890e-01 4.95978713e-01 2.64637806e-02]\n",
      " [4.46013540e-01 3.74636769e-01 1.77477613e-01 1.87217491e-03]\n",
      " [3.47321302e-01 4.92170215e-01 1.60505041e-01 3.42418821e-06]]\n",
      "Real values are:  [[0. 0. 1. 0.]\n",
      " [0. 1. 0. 0.]\n",
      " [1. 0. 0. 0.]\n",
      " [0. 1. 0. 0.]\n",
      " [0. 1. 0. 0.]\n",
      " [1. 0. 0. 0.]\n",
      " [0. 1. 0. 0.]\n",
      " [1. 0. 0. 0.]\n",
      " [1. 0. 0. 0.]\n",
      " [0. 0. 1. 0.]\n",
      " [0. 1. 0. 0.]\n",
      " [0. 1. 0. 0.]\n",
      " [1. 0. 0. 0.]\n",
      " [0. 0. 1. 0.]\n",
      " [0. 1. 0. 0.]\n",
      " [1. 0. 0. 0.]\n",
      " [0. 1. 0. 0.]\n",
      " [1. 0. 0. 0.]\n",
      " [1. 0. 0. 0.]\n",
      " [1. 0. 0. 0.]\n",
      " [1. 0. 0. 0.]\n",
      " [1. 0. 0. 0.]\n",
      " [0. 1. 0. 0.]\n",
      " [0. 0. 1. 0.]\n",
      " [0. 1. 0. 0.]\n",
      " [0. 1. 0. 0.]\n",
      " [0. 1. 0. 0.]\n",
      " [1. 0. 0. 0.]\n",
      " [0. 0. 1. 0.]\n",
      " [1. 0. 0. 0.]]\n"
     ]
    },
    {
     "name": "stderr",
     "output_type": "stream",
     "text": [
      "2022-01-03 01:06:48.029279: I tensorflow/core/grappler/optimizers/custom_graph_optimizer_registry.cc:112] Plugin optimizer for device_type GPU is enabled.\n"
     ]
    }
   ],
   "source": [
    "predictions = ann.predict(X_test[:30])\n",
    "print(\"Predicted values are: \", predictions)\n",
    "print(\"Real values are: \", y_test[:30])"
   ]
  },
  {
   "cell_type": "code",
   "execution_count": 15,
   "metadata": {
    "scrolled": true
   },
   "outputs": [
    {
     "name": "stdout",
     "output_type": "stream",
     "text": [
      "ROC AUC: 0.780\n"
     ]
    }
   ],
   "source": [
    "from sklearn.metrics import roc_auc_score\n",
    "yhat = ann.predict(X_test)\n",
    "score = roc_auc_score(y_test, yhat)\n",
    "print('ROC AUC: %.3f' % score)"
   ]
  },
  {
   "cell_type": "code",
   "execution_count": 16,
   "metadata": {},
   "outputs": [
    {
     "name": "stdout",
     "output_type": "stream",
     "text": [
      "ROC AUC: 0.780\n",
      "ROC AUC score from linear regression:  0.7387387146431614\n",
      "/nROC AUC score from decision tree:  0.5837322689812869\n",
      "/nROC-AUC score from Random Forest:  0.6893892298056163\n"
     ]
    }
   ],
   "source": [
    "#compare with other models see which is better\n",
    "from sklearn import linear_model\n",
    "from sklearn.tree import DecisionTreeRegressor\n",
    "from sklearn.metrics import roc_auc_score\n",
    "\n",
    "#comparison with other models\n",
    "#neural network of this code (this model)\n",
    "yhat = ann.predict(X_test)\n",
    "score = roc_auc_score(y_test, yhat)\n",
    "print('ROC AUC: %.3f' % score)\n",
    "\n",
    "\n",
    "## linear regression\n",
    "lr_model = linear_model.LinearRegression()\n",
    "lr_model.fit(X_train, y_train)\n",
    "y_pred_lr = lr_model.predict(X_test)\n",
    "roc_auc_lr = roc_auc_score(y_test, y_pred_lr)\n",
    "print('ROC AUC score from linear regression: ', roc_auc_lr)\n",
    "\n",
    "\n",
    "## Decision Tree\n",
    "tree = DecisionTreeRegressor()\n",
    "tree.fit(X_train, y_train)\n",
    "y_pred_tree = tree.predict(X_test)\n",
    "roc_auc_dt = roc_auc_score(y_test, y_pred_tree)\n",
    "print('/nROC AUC score from decision tree: ', roc_auc_dt)\n",
    "\n",
    "\n",
    "\n",
    "##Random Forest\n",
    "from sklearn.ensemble import RandomForestRegressor\n",
    "model = RandomForestRegressor(n_estimators = 10, random_state=30)\n",
    "model.fit(X_train, y_train)\n",
    "y_pred_RF = model.predict(X_test)\n",
    "roc_auc_RF = roc_auc_score(y_test, y_pred_RF)\n",
    "print('/nROC-AUC score from Random Forest: ', roc_auc_RF)\n"
   ]
  }
 ],
 "metadata": {
  "colab": {
   "collapsed_sections": [],
   "name": "artificial_neural_network.ipynb",
   "provenance": [],
   "toc_visible": true
  },
  "kernelspec": {
   "display_name": "Python 3 (ipykernel)",
   "language": "python",
   "name": "python3"
  },
  "language_info": {
   "codemirror_mode": {
    "name": "ipython",
    "version": 3
   },
   "file_extension": ".py",
   "mimetype": "text/x-python",
   "name": "python",
   "nbconvert_exporter": "python",
   "pygments_lexer": "ipython3",
   "version": "3.8.11"
  }
 },
 "nbformat": 4,
 "nbformat_minor": 1
}
